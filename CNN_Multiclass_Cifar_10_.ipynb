{
  "nbformat": 4,
  "nbformat_minor": 0,
  "metadata": {
    "colab": {
      "provenance": []
    },
    "kernelspec": {
      "name": "python3",
      "display_name": "Python 3"
    },
    "language_info": {
      "name": "python"
    },
    "accelerator": "GPU",
    "gpuClass": "standard"
  },
  "cells": [
    {
      "cell_type": "code",
      "execution_count": 121,
      "metadata": {
        "id": "Z2H55jib5_cg"
      },
      "outputs": [],
      "source": [
        "# Import the Required Libraries \n",
        "import numpy as np\n",
        "import pandas as pd\n",
        "import matplotlib.pyplot as plt\n",
        "%matplotlib inline\n",
        "import tensorflow as tf\n",
        "tf.random.set_seed(5)"
      ]
    },
    {
      "cell_type": "code",
      "source": [
        "from keras.layers import Dense, Flatten, MaxPool2D, Conv2D ,Dropout,BatchNormalization\n",
        "from keras.preprocessing.image import ImageDataGenerator\n",
        "from sklearn.model_selection import train_test_split\n",
        "from sklearn.metrics import classification_report,confusion_matrix\n",
        "from keras.callbacks import EarlyStopping\n",
        "import cv2\n",
        "import os\n",
        "import seaborn as sns"
      ],
      "metadata": {
        "id": "sXL3BLixWtt6"
      },
      "execution_count": 122,
      "outputs": []
    },
    {
      "cell_type": "markdown",
      "source": [
        "# Load The CIFAR10 Dataset"
      ],
      "metadata": {
        "id": "AYcx4oQM5k0f"
      }
    },
    {
      "cell_type": "code",
      "source": [
        "from tensorflow.keras.datasets import cifar10"
      ],
      "metadata": {
        "id": "2Md26DeDAW3q"
      },
      "execution_count": 146,
      "outputs": []
    },
    {
      "cell_type": "code",
      "source": [
        "(X_train,y_train) , (X_test, y_test) = cifar10.load_data()"
      ],
      "metadata": {
        "id": "h584hZG4AYbx"
      },
      "execution_count": 124,
      "outputs": []
    },
    {
      "cell_type": "code",
      "source": [
        "print(X_train.shape)\n",
        "print(X_test.shape)\n",
        "print(y_train.shape)\n",
        "print(y_test.shape)"
      ],
      "metadata": {
        "colab": {
          "base_uri": "https://localhost:8080/"
        },
        "id": "xEHoGDGb3mD0",
        "outputId": "df6e90b9-af29-41d9-a554-57d3bbceba96"
      },
      "execution_count": 125,
      "outputs": [
        {
          "output_type": "stream",
          "name": "stdout",
          "text": [
            "(50000, 32, 32, 3)\n",
            "(10000, 32, 32, 3)\n",
            "(50000, 1)\n",
            "(10000, 1)\n"
          ]
        }
      ]
    },
    {
      "cell_type": "markdown",
      "source": [
        "# Preprocess the Data"
      ],
      "metadata": {
        "id": "7XnMpF-q5urL"
      }
    },
    {
      "cell_type": "code",
      "source": [
        "X_train = X_train/255\n",
        "X_test = X_test/255"
      ],
      "metadata": {
        "id": "Mn6qbuCrYFEF"
      },
      "execution_count": 126,
      "outputs": []
    },
    {
      "cell_type": "code",
      "source": [
        "batch_size = 32,\n",
        "class_mode = 'categorical',\n",
        "target_size = (32,32)"
      ],
      "metadata": {
        "id": "GLj_FXypYhjb"
      },
      "execution_count": 127,
      "outputs": []
    },
    {
      "cell_type": "code",
      "source": [
        "classes = ['airplane', 'automobile', 'bird', 'cat', 'deer', 'dog', 'frog', 'horse', 'ship', 'truck']"
      ],
      "metadata": {
        "id": "M1mUtz3aye1n"
      },
      "execution_count": 128,
      "outputs": []
    },
    {
      "cell_type": "code",
      "source": [
        "y_train = y_train.flatten()\n",
        "y_test = y_test.flatten()"
      ],
      "metadata": {
        "id": "u_litt6c3Pni"
      },
      "execution_count": 129,
      "outputs": []
    },
    {
      "cell_type": "code",
      "source": [
        "X_train.shape"
      ],
      "metadata": {
        "colab": {
          "base_uri": "https://localhost:8080/"
        },
        "id": "mqKe2F-IUBVc",
        "outputId": "1e70ef74-9362-4eae-a68d-90825cebe125"
      },
      "execution_count": 130,
      "outputs": [
        {
          "output_type": "execute_result",
          "data": {
            "text/plain": [
              "(50000, 32, 32, 3)"
            ]
          },
          "metadata": {},
          "execution_count": 130
        }
      ]
    },
    {
      "cell_type": "code",
      "source": [
        "X_train[0]"
      ],
      "metadata": {
        "colab": {
          "base_uri": "https://localhost:8080/"
        },
        "id": "LiEs-TzuUBYT",
        "outputId": "5c196e4c-c270-4fff-ef6a-665bb1eb2721"
      },
      "execution_count": 131,
      "outputs": [
        {
          "output_type": "execute_result",
          "data": {
            "text/plain": [
              "array([[[0.23137255, 0.24313725, 0.24705882],\n",
              "        [0.16862745, 0.18039216, 0.17647059],\n",
              "        [0.19607843, 0.18823529, 0.16862745],\n",
              "        ...,\n",
              "        [0.61960784, 0.51764706, 0.42352941],\n",
              "        [0.59607843, 0.49019608, 0.4       ],\n",
              "        [0.58039216, 0.48627451, 0.40392157]],\n",
              "\n",
              "       [[0.0627451 , 0.07843137, 0.07843137],\n",
              "        [0.        , 0.        , 0.        ],\n",
              "        [0.07058824, 0.03137255, 0.        ],\n",
              "        ...,\n",
              "        [0.48235294, 0.34509804, 0.21568627],\n",
              "        [0.46666667, 0.3254902 , 0.19607843],\n",
              "        [0.47843137, 0.34117647, 0.22352941]],\n",
              "\n",
              "       [[0.09803922, 0.09411765, 0.08235294],\n",
              "        [0.0627451 , 0.02745098, 0.        ],\n",
              "        [0.19215686, 0.10588235, 0.03137255],\n",
              "        ...,\n",
              "        [0.4627451 , 0.32941176, 0.19607843],\n",
              "        [0.47058824, 0.32941176, 0.19607843],\n",
              "        [0.42745098, 0.28627451, 0.16470588]],\n",
              "\n",
              "       ...,\n",
              "\n",
              "       [[0.81568627, 0.66666667, 0.37647059],\n",
              "        [0.78823529, 0.6       , 0.13333333],\n",
              "        [0.77647059, 0.63137255, 0.10196078],\n",
              "        ...,\n",
              "        [0.62745098, 0.52156863, 0.2745098 ],\n",
              "        [0.21960784, 0.12156863, 0.02745098],\n",
              "        [0.20784314, 0.13333333, 0.07843137]],\n",
              "\n",
              "       [[0.70588235, 0.54509804, 0.37647059],\n",
              "        [0.67843137, 0.48235294, 0.16470588],\n",
              "        [0.72941176, 0.56470588, 0.11764706],\n",
              "        ...,\n",
              "        [0.72156863, 0.58039216, 0.36862745],\n",
              "        [0.38039216, 0.24313725, 0.13333333],\n",
              "        [0.3254902 , 0.20784314, 0.13333333]],\n",
              "\n",
              "       [[0.69411765, 0.56470588, 0.45490196],\n",
              "        [0.65882353, 0.50588235, 0.36862745],\n",
              "        [0.70196078, 0.55686275, 0.34117647],\n",
              "        ...,\n",
              "        [0.84705882, 0.72156863, 0.54901961],\n",
              "        [0.59215686, 0.4627451 , 0.32941176],\n",
              "        [0.48235294, 0.36078431, 0.28235294]]])"
            ]
          },
          "metadata": {},
          "execution_count": 131
        }
      ]
    },
    {
      "cell_type": "code",
      "source": [
        "X_train[0].shape"
      ],
      "metadata": {
        "colab": {
          "base_uri": "https://localhost:8080/"
        },
        "id": "gAS2C6WTUBag",
        "outputId": "39e6a937-66b7-4861-8061-b21b0edee9ef"
      },
      "execution_count": 132,
      "outputs": [
        {
          "output_type": "execute_result",
          "data": {
            "text/plain": [
              "(32, 32, 3)"
            ]
          },
          "metadata": {},
          "execution_count": 132
        }
      ]
    },
    {
      "cell_type": "code",
      "source": [
        "plt.imshow(X_train[0])"
      ],
      "metadata": {
        "colab": {
          "base_uri": "https://localhost:8080/",
          "height": 284
        },
        "id": "MZpTOqacUBdI",
        "outputId": "26190a9f-c3ef-447b-d86f-1d0a74b68641"
      },
      "execution_count": 133,
      "outputs": [
        {
          "output_type": "execute_result",
          "data": {
            "text/plain": [
              "<matplotlib.image.AxesImage at 0x7f2abfc24a00>"
            ]
          },
          "metadata": {},
          "execution_count": 133
        },
        {
          "output_type": "display_data",
          "data": {
            "text/plain": [
              "<Figure size 432x288 with 1 Axes>"
            ],
            "image/png": "[encoded data removed]"
          },
          "metadata": {
            "needs_background": "light"
          }
        }
      ]
    },
    {
      "cell_type": "code",
      "source": [
        "plt.imshow(X_train[12])"
      ],
      "metadata": {
        "colab": {
          "base_uri": "https://localhost:8080/",
          "height": 284
        },
        "id": "bi3bGvJjUBgI",
        "outputId": "cb8ae3ca-70a3-40ee-ea04-0524fdda4936"
      },
      "execution_count": 134,
      "outputs": [
        {
          "output_type": "execute_result",
          "data": {
            "text/plain": [
              "<matplotlib.image.AxesImage at 0x7f2abfbf6520>"
            ]
          },
          "metadata": {},
          "execution_count": 134
        },
        {
          "output_type": "display_data",
          "data": {
            "text/plain": [
              "<Figure size 432x288 with 1 Axes>"
            ],
            "image/png": "[encoded data removed]"
          },
          "metadata": {
            "needs_background": "light"
          }
        }
      ]
    },
    {
      "cell_type": "code",
      "source": [
        "from keras.utils.np_utils import to_categorical\n",
        "y_cat_train  = to_categorical(y_train, 10)\n",
        "y_cat_test = to_categorical(y_test, 10)"
      ],
      "metadata": {
        "id": "ux58YPuGUBkv"
      },
      "execution_count": 135,
      "outputs": []
    },
    {
      "cell_type": "markdown",
      "source": [
        "# Architecture of the CNN multiclass Model "
      ],
      "metadata": {
        "id": "cVNbrAg951Cr"
      }
    },
    {
      "cell_type": "code",
      "source": [
        "model = tf.keras.models.Sequential()\n",
        "\n",
        "model.add(Conv2D(filters = 12, kernel_size = (3,3), input_shape = (32, 32, 3), activation = \"relu\"))\n",
        "model.add(MaxPool2D(pool_size = (2,2)))\n",
        "model.add(tf.keras.layers.Dropout(0.15))\n",
        "\n",
        "model.add(Flatten())\n",
        "\n",
        "model.add(Dense(512, activation = \"relu\"))\n",
        "\n",
        "model.add(Dense(10, activation = \"softmax\"))\n",
        "\n",
        "model.compile(optimizer=tf.keras.optimizers.RMSprop(learning_rate=0.0001, decay=1e-06) ,loss = \"categorical_crossentropy\", metrics = [\"accuracy\"])"
      ],
      "metadata": {
        "id": "KGFEq3crUzeO"
      },
      "execution_count": 136,
      "outputs": []
    },
    {
      "cell_type": "code",
      "source": [
        "model.summary()"
      ],
      "metadata": {
        "colab": {
          "base_uri": "https://localhost:8080/"
        },
        "id": "1n36okijUzgQ",
        "outputId": "809ebc06-1dbb-4efa-dcbd-5c82b3720abc"
      },
      "execution_count": 137,
      "outputs": [
        {
          "output_type": "stream",
          "name": "stdout",
          "text": [
            "Model: \"sequential_6\"\n",
            "_________________________________________________________________\n",
            " Layer (type)                Output Shape              Param #   \n",
            "=================================================================\n",
            " conv2d_6 (Conv2D)           (None, 30, 30, 12)        336       \n",
            "                                                                 \n",
            " max_pooling2d_6 (MaxPooling  (None, 15, 15, 12)       0         \n",
            " 2D)                                                             \n",
            "                                                                 \n",
            " dropout_7 (Dropout)         (None, 15, 15, 12)        0         \n",
            "                                                                 \n",
            " flatten_6 (Flatten)         (None, 2700)              0         \n",
            "                                                                 \n",
            " dense_12 (Dense)            (None, 512)               1382912   \n",
            "                                                                 \n",
            " dense_13 (Dense)            (None, 10)                5130      \n",
            "                                                                 \n",
            "=================================================================\n",
            "Total params: 1,388,378\n",
            "Trainable params: 1,388,378\n",
            "Non-trainable params: 0\n",
            "_________________________________________________________________\n"
          ]
        }
      ]
    },
    {
      "cell_type": "code",
      "source": [
        "mdl_history = model.fit(X_train, y_cat_train, validation_data = (X_test, y_cat_test), epochs = 30)"
      ],
      "metadata": {
        "colab": {
          "base_uri": "https://localhost:8080/"
        },
        "id": "NgIP02LvUzlD",
        "outputId": "73708b27-4a48-4467-9831-45c3f6264a0f"
      },
      "execution_count": 138,
      "outputs": [
        {
          "output_type": "stream",
          "name": "stdout",
          "text": [
            "Epoch 1/30\n",
            "1563/1563 [==============================] - 8s 5ms/step - loss: 1.7969 - accuracy: 0.3614 - val_loss: 1.6417 - val_accuracy: 0.4104\n",
            "Epoch 2/30\n",
            "1563/1563 [==============================] - 8s 5ms/step - loss: 1.5358 - accuracy: 0.4616 - val_loss: 1.4697 - val_accuracy: 0.4762\n",
            "Epoch 3/30\n",
            "1563/1563 [==============================] - 7s 4ms/step - loss: 1.4071 - accuracy: 0.5095 - val_loss: 1.3500 - val_accuracy: 0.5274\n",
            "Epoch 4/30\n",
            "1563/1563 [==============================] - 7s 4ms/step - loss: 1.3196 - accuracy: 0.5392 - val_loss: 1.2957 - val_accuracy: 0.5413\n",
            "Epoch 5/30\n",
            "1563/1563 [==============================] - 7s 5ms/step - loss: 1.2583 - accuracy: 0.5627 - val_loss: 1.2447 - val_accuracy: 0.5692\n",
            "Epoch 6/30\n",
            "1563/1563 [==============================] - 7s 4ms/step - loss: 1.2089 - accuracy: 0.5783 - val_loss: 1.2523 - val_accuracy: 0.5641\n",
            "Epoch 7/30\n",
            "1563/1563 [==============================] - 7s 4ms/step - loss: 1.1682 - accuracy: 0.5961 - val_loss: 1.1707 - val_accuracy: 0.5949\n",
            "Epoch 8/30\n",
            "1563/1563 [==============================] - 7s 5ms/step - loss: 1.1342 - accuracy: 0.6059 - val_loss: 1.1667 - val_accuracy: 0.5917\n",
            "Epoch 9/30\n",
            "1563/1563 [==============================] - 7s 5ms/step - loss: 1.1061 - accuracy: 0.6152 - val_loss: 1.1448 - val_accuracy: 0.5969\n",
            "Epoch 10/30\n",
            "1563/1563 [==============================] - 7s 4ms/step - loss: 1.0803 - accuracy: 0.6261 - val_loss: 1.1196 - val_accuracy: 0.6114\n",
            "Epoch 11/30\n",
            "1563/1563 [==============================] - 7s 4ms/step - loss: 1.0546 - accuracy: 0.6348 - val_loss: 1.1067 - val_accuracy: 0.6121\n",
            "Epoch 12/30\n",
            "1563/1563 [==============================] - 7s 5ms/step - loss: 1.0326 - accuracy: 0.6424 - val_loss: 1.1243 - val_accuracy: 0.6122\n",
            "Epoch 13/30\n",
            "1563/1563 [==============================] - 7s 5ms/step - loss: 1.0110 - accuracy: 0.6500 - val_loss: 1.0920 - val_accuracy: 0.6212\n",
            "Epoch 14/30\n",
            "1563/1563 [==============================] - 7s 4ms/step - loss: 0.9899 - accuracy: 0.6566 - val_loss: 1.0836 - val_accuracy: 0.6263\n",
            "Epoch 15/30\n",
            "1563/1563 [==============================] - 7s 5ms/step - loss: 0.9703 - accuracy: 0.6636 - val_loss: 1.0645 - val_accuracy: 0.6259\n",
            "Epoch 16/30\n",
            "1563/1563 [==============================] - 7s 4ms/step - loss: 0.9493 - accuracy: 0.6724 - val_loss: 1.0662 - val_accuracy: 0.6317\n",
            "Epoch 17/30\n",
            "1563/1563 [==============================] - 10s 6ms/step - loss: 0.9292 - accuracy: 0.6807 - val_loss: 1.0663 - val_accuracy: 0.6274\n",
            "Epoch 18/30\n",
            "1563/1563 [==============================] - 8s 5ms/step - loss: 0.9150 - accuracy: 0.6843 - val_loss: 1.0593 - val_accuracy: 0.6323\n",
            "Epoch 19/30\n",
            "1563/1563 [==============================] - 7s 5ms/step - loss: 0.8936 - accuracy: 0.6918 - val_loss: 1.0273 - val_accuracy: 0.6472\n",
            "Epoch 20/30\n",
            "1563/1563 [==============================] - 7s 4ms/step - loss: 0.8748 - accuracy: 0.7011 - val_loss: 1.0374 - val_accuracy: 0.6449\n",
            "Epoch 21/30\n",
            "1563/1563 [==============================] - 7s 4ms/step - loss: 0.8584 - accuracy: 0.7064 - val_loss: 1.0243 - val_accuracy: 0.6465\n",
            "Epoch 22/30\n",
            "1563/1563 [==============================] - 7s 4ms/step - loss: 0.8390 - accuracy: 0.7118 - val_loss: 1.0178 - val_accuracy: 0.6509\n",
            "Epoch 23/30\n",
            "1563/1563 [==============================] - 7s 5ms/step - loss: 0.8260 - accuracy: 0.7151 - val_loss: 1.0422 - val_accuracy: 0.6426\n",
            "Epoch 24/30\n",
            "1563/1563 [==============================] - 7s 5ms/step - loss: 0.8049 - accuracy: 0.7224 - val_loss: 0.9920 - val_accuracy: 0.6570\n",
            "Epoch 25/30\n",
            "1563/1563 [==============================] - 7s 5ms/step - loss: 0.7895 - accuracy: 0.7296 - val_loss: 1.0210 - val_accuracy: 0.6488\n",
            "Epoch 26/30\n",
            "1563/1563 [==============================] - 7s 5ms/step - loss: 0.7730 - accuracy: 0.7355 - val_loss: 1.0154 - val_accuracy: 0.6517\n",
            "Epoch 27/30\n",
            "1563/1563 [==============================] - 9s 6ms/step - loss: 0.7563 - accuracy: 0.7423 - val_loss: 0.9966 - val_accuracy: 0.6622\n",
            "Epoch 28/30\n",
            "1563/1563 [==============================] - 7s 5ms/step - loss: 0.7371 - accuracy: 0.7491 - val_loss: 0.9826 - val_accuracy: 0.6629\n",
            "Epoch 29/30\n",
            "1563/1563 [==============================] - 7s 4ms/step - loss: 0.7242 - accuracy: 0.7539 - val_loss: 1.0017 - val_accuracy: 0.6597\n",
            "Epoch 30/30\n",
            "1563/1563 [==============================] - 7s 4ms/step - loss: 0.7083 - accuracy: 0.7594 - val_loss: 0.9872 - val_accuracy: 0.6649\n"
          ]
        }
      ]
    },
    {
      "cell_type": "markdown",
      "source": [
        "# plot the Accuracy on Training and Testing Data - (Training - 70.83% and Testing 66.49%)"
      ],
      "metadata": {
        "id": "_O6n5wDb59TV"
      }
    },
    {
      "cell_type": "code",
      "source": [
        "plt.plot(mdl_history.history['accuracy'])\n",
        "plt.plot(mdl_history.history['val_accuracy'])\n",
        "plt.legend(('train','test'),loc='best')\n",
        "plt.title(\"Train, Test Results\")\n",
        "plt.xlabel('Number of epochs')\n",
        "plt.ylabel('Accuracy')"
      ],
      "metadata": {
        "colab": {
          "base_uri": "https://localhost:8080/",
          "height": 313
        },
        "id": "YG05QHoFUzm-",
        "outputId": "da0db84e-ff08-4cd5-8308-31182acd35d0"
      },
      "execution_count": 139,
      "outputs": [
        {
          "output_type": "execute_result",
          "data": {
            "text/plain": [
              "Text(0, 0.5, 'Accuracy')"
            ]
          },
          "metadata": {},
          "execution_count": 139
        },
        {
          "output_type": "display_data",
          "data": {
            "text/plain": [
              "<Figure size 432x288 with 1 Axes>"
            ],
            "image/png": "[encoded data removed]"
          },
          "metadata": {
            "needs_background": "light"
          }
        }
      ]
    },
    {
      "cell_type": "markdown",
      "source": [
        "# CNN Multiclass Model Evaluation"
      ],
      "metadata": {
        "id": "G-7hucbf6N6G"
      }
    },
    {
      "cell_type": "code",
      "source": [
        "test_loss, test_acc = model.evaluate(X_test, y_cat_test)"
      ],
      "metadata": {
        "colab": {
          "base_uri": "https://localhost:8080/"
        },
        "id": "LdWV_ISaUzpN",
        "outputId": "7a11f955-e766-4b0f-86ce-44327de3d2af"
      },
      "execution_count": 140,
      "outputs": [
        {
          "output_type": "stream",
          "name": "stdout",
          "text": [
            "313/313 [==============================] - 1s 3ms/step - loss: 0.9872 - accuracy: 0.6649\n"
          ]
        }
      ]
    },
    {
      "cell_type": "code",
      "source": [
        "# Predict the values from the validation dataset\n",
        "y_pred = model.predict(X_test)\n",
        "# Convert predictions classes to one hot vectors \n",
        "y_pred_classes = np.argmax(y_pred,axis = 1) \n",
        "# Convert validation observations to one hot vectors\n",
        "y_true = np.argmax(y_cat_test,axis = 1)\n",
        "# compute the confusion matrix\n",
        "confusion_mtx = confusion_matrix(y_true, y_pred_classes)"
      ],
      "metadata": {
        "colab": {
          "base_uri": "https://localhost:8080/"
        },
        "id": "ej8HdGhEUzrG",
        "outputId": "f31fbcd3-f8c7-4008-b016-c8b43908527f"
      },
      "execution_count": 143,
      "outputs": [
        {
          "output_type": "stream",
          "name": "stdout",
          "text": [
            "313/313 [==============================] - 1s 4ms/step\n"
          ]
        }
      ]
    },
    {
      "cell_type": "code",
      "source": [
        "plt.figure(figsize=(12, 9))\n",
        "c = sns.heatmap(confusion_mtx, annot=True, fmt='g')\n",
        "c.set(xticklabels=classes, yticklabels=classes)"
      ],
      "metadata": {
        "colab": {
          "base_uri": "https://localhost:8080/",
          "height": 906
        },
        "id": "ZYzEojwrUzs8",
        "outputId": "5ce4328f-2a99-411f-bf44-f95375cf7bd8"
      },
      "execution_count": 144,
      "outputs": [
        {
          "output_type": "execute_result",
          "data": {
            "text/plain": [
              "[[Text(0, 0.5, 'airplane'),\n",
              "  Text(0, 1.5, 'automobile'),\n",
              "  Text(0, 2.5, 'bird'),\n",
              "  Text(0, 3.5, 'cat'),\n",
              "  Text(0, 4.5, 'deer'),\n",
              "  Text(0, 5.5, 'dog'),\n",
              "  Text(0, 6.5, 'frog'),\n",
              "  Text(0, 7.5, 'horse'),\n",
              "  Text(0, 8.5, 'ship'),\n",
              "  Text(0, 9.5, 'truck')],\n",
              " [Text(0.5, 0, 'airplane'),\n",
              "  Text(1.5, 0, 'automobile'),\n",
              "  Text(2.5, 0, 'bird'),\n",
              "  Text(3.5, 0, 'cat'),\n",
              "  Text(4.5, 0, 'deer'),\n",
              "  Text(5.5, 0, 'dog'),\n",
              "  Text(6.5, 0, 'frog'),\n",
              "  Text(7.5, 0, 'horse'),\n",
              "  Text(8.5, 0, 'ship'),\n",
              "  Text(9.5, 0, 'truck')]]"
            ]
          },
          "metadata": {},
          "execution_count": 144
        },
        {
          "output_type": "display_data",
          "data": {
            "text/plain": [
              "<Figure size 864x648 with 2 Axes>"
            ],
            "image/png": "[encoded data removed]"
          },
          "metadata": {
            "needs_background": "light"
          }
        }
      ]
    }
  ]
}