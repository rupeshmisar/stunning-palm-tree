{
 "cells": [
  {
   "cell_type": "code",
   "execution_count": 1,
   "id": "ca5637e8",
   "metadata": {
    "_cell_guid": "b1076dfc-b9ad-4769-8c92-a6c4dae69d19",
    "_uuid": "8f2839f25d086af736a60e9eeb907d3b93b6e0e5",
    "execution": {
     "iopub.execute_input": "2023-04-03T10:04:58.727545Z",
     "iopub.status.busy": "2023-04-03T10:04:58.726778Z",
     "iopub.status.idle": "2023-04-03T10:04:58.749780Z",
     "shell.execute_reply": "2023-04-03T10:04:58.748387Z"
    },
    "papermill": {
     "duration": 0.036149,
     "end_time": "2023-04-03T10:04:58.753082",
     "exception": false,
     "start_time": "2023-04-03T10:04:58.716933",
     "status": "completed"
    },
    "tags": []
   },
   "outputs": [
    {
     "name": "stdout",
     "output_type": "stream",
     "text": [
      "/kaggle/input/top-50-us-tech-companies-2022-2023-dataset/Top 50 US Tech Companies 2022 - 2023.csv\n"
     ]
    }
   ],
   "source": [
    "# This Python 3 environment comes with many helpful analytics libraries installed\n",
    "# It is defined by the kaggle/python Docker image: https://github.com/kaggle/docker-python\n",
    "# For example, here's several helpful packages to load\n",
    "\n",
    "import numpy as np # linear algebra\n",
    "import pandas as pd # data processing, CSV file I/O (e.g. pd.read_csv)\n",
    "\n",
    "# Input data files are available in the read-only \"../input/\" directory\n",
    "# For example, running this (by clicking run or pressing Shift+Enter) will list all files under the input directory\n",
    "\n",
    "import os\n",
    "for dirname, _, filenames in os.walk('/kaggle/input'):\n",
    "    for filename in filenames:\n",
    "        print(os.path.join(dirname, filename))\n",
    "\n",
    "# You can write up to 20GB to the current directory (/kaggle/working/) that gets preserved as output when you create a version using \"Save & Run All\" \n",
    "# You can also write temporary files to /kaggle/temp/, but they won't be saved outside of the current session"
   ]
  },
  {
   "cell_type": "markdown",
   "id": "966c7678",
   "metadata": {
    "papermill": {
     "duration": 0.006971,
     "end_time": "2023-04-03T10:04:58.767170",
     "exception": false,
     "start_time": "2023-04-03T10:04:58.760199",
     "status": "completed"
    },
    "tags": []
   },
   "source": [
    "# 1. Import Library and Data acquiazation"
   ]
  },
  {
   "cell_type": "code",
   "execution_count": 2,
   "id": "b4fa7122",
   "metadata": {
    "execution": {
     "iopub.execute_input": "2023-04-03T10:04:58.782820Z",
     "iopub.status.busy": "2023-04-03T10:04:58.782362Z",
     "iopub.status.idle": "2023-04-03T10:05:00.186200Z",
     "shell.execute_reply": "2023-04-03T10:05:00.184813Z"
    },
    "papermill": {
     "duration": 1.415203,
     "end_time": "2023-04-03T10:05:00.189267",
     "exception": false,
     "start_time": "2023-04-03T10:04:58.774064",
     "status": "completed"
    },
    "tags": []
   },
   "outputs": [],
   "source": [
    "import numpy as np\n",
    "import pandas as pd\n",
    "import matplotlib as plt\n",
    "%matplotlib inline\n",
    "import seaborn as sns\n",
    "\n",
    "df = pd.read_csv(\"/kaggle/input/top-50-us-tech-companies-2022-2023-dataset/Top 50 US Tech Companies 2022 - 2023.csv\")"
   ]
  },
  {
   "cell_type": "code",
   "execution_count": 3,
   "id": "5aa50f5f",
   "metadata": {
    "execution": {
     "iopub.execute_input": "2023-04-03T10:05:00.204704Z",
     "iopub.status.busy": "2023-04-03T10:05:00.204260Z",
     "iopub.status.idle": "2023-04-03T10:05:00.213086Z",
     "shell.execute_reply": "2023-04-03T10:05:00.211689Z"
    },
    "papermill": {
     "duration": 0.019632,
     "end_time": "2023-04-03T10:05:00.215663",
     "exception": false,
     "start_time": "2023-04-03T10:05:00.196031",
     "status": "completed"
    },
    "tags": []
   },
   "outputs": [
    {
     "data": {
      "text/plain": [
       "(50, 10)"
      ]
     },
     "execution_count": 3,
     "metadata": {},
     "output_type": "execute_result"
    }
   ],
   "source": [
    "df.shape"
   ]
  },
  {
   "cell_type": "code",
   "execution_count": 4,
   "id": "a67fec24",
   "metadata": {
    "execution": {
     "iopub.execute_input": "2023-04-03T10:05:00.232119Z",
     "iopub.status.busy": "2023-04-03T10:05:00.230948Z",
     "iopub.status.idle": "2023-04-03T10:05:00.259784Z",
     "shell.execute_reply": "2023-04-03T10:05:00.258037Z"
    },
    "papermill": {
     "duration": 0.040774,
     "end_time": "2023-04-03T10:05:00.263555",
     "exception": false,
     "start_time": "2023-04-03T10:05:00.222781",
     "status": "completed"
    },
    "tags": []
   },
   "outputs": [
    {
     "name": "stdout",
     "output_type": "stream",
     "text": [
      "<class 'pandas.core.frame.DataFrame'>\n",
      "RangeIndex: 50 entries, 0 to 49\n",
      "Data columns (total 10 columns):\n",
      " #   Column                                            Non-Null Count  Dtype  \n",
      "---  ------                                            --------------  -----  \n",
      " 0   Company Name                                      50 non-null     object \n",
      " 1   Industry                                          50 non-null     object \n",
      " 2   Sector                                            50 non-null     object \n",
      " 3   HQ State                                          50 non-null     object \n",
      " 4   Founding Year                                     50 non-null     int64  \n",
      " 5   Annual Revenue 2022-2023 (USD in Billions)        50 non-null     float64\n",
      " 6   Market Cap (USD in Trillions)                     50 non-null     float64\n",
      " 7   Stock Name                                        50 non-null     object \n",
      " 8   Annual Income Tax in 2022-2023 (USD in Billions)  50 non-null     float64\n",
      " 9   Employee Size                                     50 non-null     int64  \n",
      "dtypes: float64(3), int64(2), object(5)\n",
      "memory usage: 4.0+ KB\n"
     ]
    }
   ],
   "source": [
    "df.info()"
   ]
  },
  {
   "cell_type": "code",
   "execution_count": 5,
   "id": "df0211bf",
   "metadata": {
    "execution": {
     "iopub.execute_input": "2023-04-03T10:05:00.280182Z",
     "iopub.status.busy": "2023-04-03T10:05:00.279752Z",
     "iopub.status.idle": "2023-04-03T10:05:00.323070Z",
     "shell.execute_reply": "2023-04-03T10:05:00.322069Z"
    },
    "papermill": {
     "duration": 0.054404,
     "end_time": "2023-04-03T10:05:00.325525",
     "exception": false,
     "start_time": "2023-04-03T10:05:00.271121",
     "status": "completed"
    },
    "tags": []
   },
   "outputs": [
    {
     "data": {
      "text/html": [
       "<div>\n",
       "<style scoped>\n",
       "    .dataframe tbody tr th:only-of-type {\n",
       "        vertical-align: middle;\n",
       "    }\n",
       "\n",
       "    .dataframe tbody tr th {\n",
       "        vertical-align: top;\n",
       "    }\n",
       "\n",
       "    .dataframe thead th {\n",
       "        text-align: right;\n",
       "    }\n",
       "</style>\n",
       "<table border=\"1\" class=\"dataframe\">\n",
       "  <thead>\n",
       "    <tr style=\"text-align: right;\">\n",
       "      <th></th>\n",
       "      <th>Founding Year</th>\n",
       "      <th>Annual Revenue 2022-2023 (USD in Billions)</th>\n",
       "      <th>Market Cap (USD in Trillions)</th>\n",
       "      <th>Annual Income Tax in 2022-2023 (USD in Billions)</th>\n",
       "      <th>Employee Size</th>\n",
       "    </tr>\n",
       "  </thead>\n",
       "  <tbody>\n",
       "    <tr>\n",
       "      <th>count</th>\n",
       "      <td>50.000000</td>\n",
       "      <td>50.00000</td>\n",
       "      <td>50.000000</td>\n",
       "      <td>50.000000</td>\n",
       "      <td>5.000000e+01</td>\n",
       "    </tr>\n",
       "    <tr>\n",
       "      <th>mean</th>\n",
       "      <td>1984.140000</td>\n",
       "      <td>51.20440</td>\n",
       "      <td>0.252160</td>\n",
       "      <td>1.386780</td>\n",
       "      <td>8.324962e+04</td>\n",
       "    </tr>\n",
       "    <tr>\n",
       "      <th>std</th>\n",
       "      <td>24.988985</td>\n",
       "      <td>97.41288</td>\n",
       "      <td>0.490377</td>\n",
       "      <td>3.687916</td>\n",
       "      <td>2.205869e+05</td>\n",
       "    </tr>\n",
       "    <tr>\n",
       "      <th>min</th>\n",
       "      <td>1890.000000</td>\n",
       "      <td>2.06000</td>\n",
       "      <td>0.028000</td>\n",
       "      <td>-3.217000</td>\n",
       "      <td>2.993000e+03</td>\n",
       "    </tr>\n",
       "    <tr>\n",
       "      <th>25%</th>\n",
       "      <td>1977.250000</td>\n",
       "      <td>7.65250</td>\n",
       "      <td>0.051250</td>\n",
       "      <td>0.098750</td>\n",
       "      <td>1.415000e+04</td>\n",
       "    </tr>\n",
       "    <tr>\n",
       "      <th>50%</th>\n",
       "      <td>1988.500000</td>\n",
       "      <td>17.66500</td>\n",
       "      <td>0.082500</td>\n",
       "      <td>0.280500</td>\n",
       "      <td>2.472500e+04</td>\n",
       "    </tr>\n",
       "    <tr>\n",
       "      <th>75%</th>\n",
       "      <td>1999.750000</td>\n",
       "      <td>40.81500</td>\n",
       "      <td>0.160250</td>\n",
       "      <td>0.945000</td>\n",
       "      <td>7.015575e+04</td>\n",
       "    </tr>\n",
       "    <tr>\n",
       "      <th>max</th>\n",
       "      <td>2012.000000</td>\n",
       "      <td>513.98000</td>\n",
       "      <td>2.520000</td>\n",
       "      <td>18.314000</td>\n",
       "      <td>1.541000e+06</td>\n",
       "    </tr>\n",
       "  </tbody>\n",
       "</table>\n",
       "</div>"
      ],
      "text/plain": [
       "       Founding Year  Annual Revenue 2022-2023 (USD in Billions)  \\\n",
       "count      50.000000                                    50.00000   \n",
       "mean     1984.140000                                    51.20440   \n",
       "std        24.988985                                    97.41288   \n",
       "min      1890.000000                                     2.06000   \n",
       "25%      1977.250000                                     7.65250   \n",
       "50%      1988.500000                                    17.66500   \n",
       "75%      1999.750000                                    40.81500   \n",
       "max      2012.000000                                   513.98000   \n",
       "\n",
       "       Market Cap (USD in Trillions)  \\\n",
       "count                      50.000000   \n",
       "mean                        0.252160   \n",
       "std                         0.490377   \n",
       "min                         0.028000   \n",
       "25%                         0.051250   \n",
       "50%                         0.082500   \n",
       "75%                         0.160250   \n",
       "max                         2.520000   \n",
       "\n",
       "       Annual Income Tax in 2022-2023 (USD in Billions)  Employee Size  \n",
       "count                                         50.000000   5.000000e+01  \n",
       "mean                                           1.386780   8.324962e+04  \n",
       "std                                            3.687916   2.205869e+05  \n",
       "min                                           -3.217000   2.993000e+03  \n",
       "25%                                            0.098750   1.415000e+04  \n",
       "50%                                            0.280500   2.472500e+04  \n",
       "75%                                            0.945000   7.015575e+04  \n",
       "max                                           18.314000   1.541000e+06  "
      ]
     },
     "execution_count": 5,
     "metadata": {},
     "output_type": "execute_result"
    }
   ],
   "source": [
    "df.describe()"
   ]
  },
  {
   "cell_type": "code",
   "execution_count": 6,
   "id": "49fbea8b",
   "metadata": {
    "execution": {
     "iopub.execute_input": "2023-04-03T10:05:00.343172Z",
     "iopub.status.busy": "2023-04-03T10:05:00.341699Z",
     "iopub.status.idle": "2023-04-03T10:05:00.352782Z",
     "shell.execute_reply": "2023-04-03T10:05:00.351211Z"
    },
    "papermill": {
     "duration": 0.023007,
     "end_time": "2023-04-03T10:05:00.355905",
     "exception": false,
     "start_time": "2023-04-03T10:05:00.332898",
     "status": "completed"
    },
    "tags": []
   },
   "outputs": [
    {
     "data": {
      "text/plain": [
       "Company Name                                        0\n",
       "Industry                                            0\n",
       "Sector                                              0\n",
       "HQ State                                            0\n",
       "Founding Year                                       0\n",
       "Annual Revenue 2022-2023 (USD in Billions)          0\n",
       "Market Cap (USD in Trillions)                       0\n",
       "Stock Name                                          0\n",
       "Annual Income Tax in 2022-2023 (USD in Billions)    0\n",
       "Employee Size                                       0\n",
       "dtype: int64"
      ]
     },
     "execution_count": 6,
     "metadata": {},
     "output_type": "execute_result"
    }
   ],
   "source": [
    "df.isnull().sum()"
   ]
  },
  {
   "cell_type": "code",
   "execution_count": 7,
   "id": "b5727112",
   "metadata": {
    "execution": {
     "iopub.execute_input": "2023-04-03T10:05:00.373794Z",
     "iopub.status.busy": "2023-04-03T10:05:00.372683Z",
     "iopub.status.idle": "2023-04-03T10:05:00.389908Z",
     "shell.execute_reply": "2023-04-03T10:05:00.388643Z"
    },
    "papermill": {
     "duration": 0.028963,
     "end_time": "2023-04-03T10:05:00.392462",
     "exception": false,
     "start_time": "2023-04-03T10:05:00.363499",
     "status": "completed"
    },
    "tags": []
   },
   "outputs": [
    {
     "data": {
      "text/html": [
       "<div>\n",
       "<style scoped>\n",
       "    .dataframe tbody tr th:only-of-type {\n",
       "        vertical-align: middle;\n",
       "    }\n",
       "\n",
       "    .dataframe tbody tr th {\n",
       "        vertical-align: top;\n",
       "    }\n",
       "\n",
       "    .dataframe thead th {\n",
       "        text-align: right;\n",
       "    }\n",
       "</style>\n",
       "<table border=\"1\" class=\"dataframe\">\n",
       "  <thead>\n",
       "    <tr style=\"text-align: right;\">\n",
       "      <th></th>\n",
       "      <th>Company Name</th>\n",
       "      <th>Industry</th>\n",
       "      <th>Sector</th>\n",
       "      <th>HQ State</th>\n",
       "      <th>Founding Year</th>\n",
       "      <th>Annual Revenue 2022-2023 (USD in Billions)</th>\n",
       "      <th>Market Cap (USD in Trillions)</th>\n",
       "      <th>Stock Name</th>\n",
       "      <th>Annual Income Tax in 2022-2023 (USD in Billions)</th>\n",
       "      <th>Employee Size</th>\n",
       "    </tr>\n",
       "  </thead>\n",
       "  <tbody>\n",
       "    <tr>\n",
       "      <th>0</th>\n",
       "      <td>Apple Inc.</td>\n",
       "      <td>Technology</td>\n",
       "      <td>Consumer Electronics</td>\n",
       "      <td>California</td>\n",
       "      <td>1976</td>\n",
       "      <td>387.53</td>\n",
       "      <td>2.520</td>\n",
       "      <td>AAPL</td>\n",
       "      <td>18.314</td>\n",
       "      <td>164000</td>\n",
       "    </tr>\n",
       "    <tr>\n",
       "      <th>1</th>\n",
       "      <td>Microsoft Corporation</td>\n",
       "      <td>Technology</td>\n",
       "      <td>Software Infrastructure</td>\n",
       "      <td>Washington</td>\n",
       "      <td>1975</td>\n",
       "      <td>204.09</td>\n",
       "      <td>2.037</td>\n",
       "      <td>MSFT</td>\n",
       "      <td>15.139</td>\n",
       "      <td>221000</td>\n",
       "    </tr>\n",
       "    <tr>\n",
       "      <th>2</th>\n",
       "      <td>Alphabet (Google)</td>\n",
       "      <td>Technology</td>\n",
       "      <td>Software Infrastructure</td>\n",
       "      <td>California</td>\n",
       "      <td>1998</td>\n",
       "      <td>282.83</td>\n",
       "      <td>1.350</td>\n",
       "      <td>GOOG</td>\n",
       "      <td>11.356</td>\n",
       "      <td>190234</td>\n",
       "    </tr>\n",
       "    <tr>\n",
       "      <th>3</th>\n",
       "      <td>Amazon</td>\n",
       "      <td>Technology</td>\n",
       "      <td>Software Application</td>\n",
       "      <td>Washington</td>\n",
       "      <td>1994</td>\n",
       "      <td>513.98</td>\n",
       "      <td>1.030</td>\n",
       "      <td>AMZN</td>\n",
       "      <td>-3.217</td>\n",
       "      <td>1541000</td>\n",
       "    </tr>\n",
       "    <tr>\n",
       "      <th>4</th>\n",
       "      <td>NVIDIA Corporation</td>\n",
       "      <td>Technology</td>\n",
       "      <td>Semiconductors</td>\n",
       "      <td>California</td>\n",
       "      <td>1993</td>\n",
       "      <td>26.97</td>\n",
       "      <td>0.653</td>\n",
       "      <td>NVDA</td>\n",
       "      <td>0.189</td>\n",
       "      <td>22473</td>\n",
       "    </tr>\n",
       "  </tbody>\n",
       "</table>\n",
       "</div>"
      ],
      "text/plain": [
       "            Company Name    Industry                   Sector    HQ State  \\\n",
       "0             Apple Inc.  Technology     Consumer Electronics  California   \n",
       "1  Microsoft Corporation  Technology  Software Infrastructure  Washington   \n",
       "2      Alphabet (Google)  Technology  Software Infrastructure  California   \n",
       "3                 Amazon  Technology     Software Application  Washington   \n",
       "4     NVIDIA Corporation  Technology           Semiconductors  California   \n",
       "\n",
       "   Founding Year  Annual Revenue 2022-2023 (USD in Billions)  \\\n",
       "0           1976                                      387.53   \n",
       "1           1975                                      204.09   \n",
       "2           1998                                      282.83   \n",
       "3           1994                                      513.98   \n",
       "4           1993                                       26.97   \n",
       "\n",
       "   Market Cap (USD in Trillions) Stock Name  \\\n",
       "0                          2.520       AAPL   \n",
       "1                          2.037       MSFT   \n",
       "2                          1.350       GOOG   \n",
       "3                          1.030       AMZN   \n",
       "4                          0.653       NVDA   \n",
       "\n",
       "   Annual Income Tax in 2022-2023 (USD in Billions)  Employee Size  \n",
       "0                                            18.314         164000  \n",
       "1                                            15.139         221000  \n",
       "2                                            11.356         190234  \n",
       "3                                            -3.217        1541000  \n",
       "4                                             0.189          22473  "
      ]
     },
     "execution_count": 7,
     "metadata": {},
     "output_type": "execute_result"
    }
   ],
   "source": [
    "df.head()"
   ]
  },
  {
   "cell_type": "markdown",
   "id": "fbbc4f1e",
   "metadata": {
    "papermill": {
     "duration": 0.007327,
     "end_time": "2023-04-03T10:05:00.407629",
     "exception": false,
     "start_time": "2023-04-03T10:05:00.400302",
     "status": "completed"
    },
    "tags": []
   },
   "source": [
    "# 2.  Data preprocessing and Understanding of the data"
   ]
  },
  {
   "cell_type": "code",
   "execution_count": 8,
   "id": "e0234d0b",
   "metadata": {
    "execution": {
     "iopub.execute_input": "2023-04-03T10:05:00.424830Z",
     "iopub.status.busy": "2023-04-03T10:05:00.424380Z",
     "iopub.status.idle": "2023-04-03T10:05:00.437789Z",
     "shell.execute_reply": "2023-04-03T10:05:00.436831Z"
    },
    "papermill": {
     "duration": 0.025038,
     "end_time": "2023-04-03T10:05:00.440278",
     "exception": false,
     "start_time": "2023-04-03T10:05:00.415240",
     "status": "completed"
    },
    "tags": []
   },
   "outputs": [
    {
     "data": {
      "text/plain": [
       "Company Name                                        50\n",
       "Industry                                             1\n",
       "Sector                                               8\n",
       "HQ State                                            13\n",
       "Founding Year                                       36\n",
       "Annual Revenue 2022-2023 (USD in Billions)          50\n",
       "Market Cap (USD in Trillions)                       42\n",
       "Stock Name                                          50\n",
       "Annual Income Tax in 2022-2023 (USD in Billions)    50\n",
       "Employee Size                                       48\n",
       "dtype: int64"
      ]
     },
     "execution_count": 8,
     "metadata": {},
     "output_type": "execute_result"
    }
   ],
   "source": [
    "df.nunique()"
   ]
  },
  {
   "cell_type": "code",
   "execution_count": 9,
   "id": "84ca2aa2",
   "metadata": {
    "execution": {
     "iopub.execute_input": "2023-04-03T10:05:00.457478Z",
     "iopub.status.busy": "2023-04-03T10:05:00.457048Z",
     "iopub.status.idle": "2023-04-03T10:05:00.463416Z",
     "shell.execute_reply": "2023-04-03T10:05:00.462412Z"
    },
    "papermill": {
     "duration": 0.017908,
     "end_time": "2023-04-03T10:05:00.465937",
     "exception": false,
     "start_time": "2023-04-03T10:05:00.448029",
     "status": "completed"
    },
    "tags": []
   },
   "outputs": [],
   "source": [
    "# Generate New column name 'Age'\n",
    "df['Age'] = 2023 - df['Founding Year'] "
   ]
  },
  {
   "cell_type": "code",
   "execution_count": 10,
   "id": "8a8dc98f",
   "metadata": {
    "execution": {
     "iopub.execute_input": "2023-04-03T10:05:00.483835Z",
     "iopub.status.busy": "2023-04-03T10:05:00.483018Z",
     "iopub.status.idle": "2023-04-03T10:05:00.489164Z",
     "shell.execute_reply": "2023-04-03T10:05:00.488103Z"
    },
    "papermill": {
     "duration": 0.017912,
     "end_time": "2023-04-03T10:05:00.491680",
     "exception": false,
     "start_time": "2023-04-03T10:05:00.473768",
     "status": "completed"
    },
    "tags": []
   },
   "outputs": [],
   "source": [
    "# Drop column 'Founding Year' as Age column added in dataframe\n",
    "df.drop(columns = ['Founding Year'],inplace = True)"
   ]
  },
  {
   "cell_type": "code",
   "execution_count": 11,
   "id": "aa878a49",
   "metadata": {
    "execution": {
     "iopub.execute_input": "2023-04-03T10:05:00.510974Z",
     "iopub.status.busy": "2023-04-03T10:05:00.510500Z",
     "iopub.status.idle": "2023-04-03T10:05:00.520115Z",
     "shell.execute_reply": "2023-04-03T10:05:00.518522Z"
    },
    "papermill": {
     "duration": 0.023499,
     "end_time": "2023-04-03T10:05:00.523050",
     "exception": false,
     "start_time": "2023-04-03T10:05:00.499551",
     "status": "completed"
    },
    "tags": []
   },
   "outputs": [
    {
     "name": "stdout",
     "output_type": "stream",
     "text": [
      "Amazon Company Name                                                      Amazon\n",
      "Industry                                                      Technology\n",
      "Sector                                              Software Application\n",
      "HQ State                                                      Washington\n",
      "Annual Revenue 2022-2023 (USD in Billions)                        513.98\n",
      "Market Cap (USD in Trillions)                                       1.03\n",
      "Stock Name                                                          AMZN\n",
      "Annual Income Tax in 2022-2023 (USD in Billions)                  -3.217\n",
      "Employee Size                                                    1541000\n",
      "Age                                                                   29\n",
      "Name: 3, dtype: object\n"
     ]
    }
   ],
   "source": [
    "# Company having highest Revenue and other Details \n",
    "highest_revenue = df.loc[df['Annual Revenue 2022-2023 (USD in Billions)'].idxmax()]\n",
    "company_name = highest_revenue['Company Name']\n",
    "print(company_name, highest_revenue)"
   ]
  },
  {
   "cell_type": "markdown",
   "id": "3138278d",
   "metadata": {
    "papermill": {
     "duration": 0.007417,
     "end_time": "2023-04-03T10:05:00.538380",
     "exception": false,
     "start_time": "2023-04-03T10:05:00.530963",
     "status": "completed"
    },
    "tags": []
   },
   "source": [
    "### Highest revenue Company name is \"Amazone\""
   ]
  },
  {
   "cell_type": "code",
   "execution_count": 12,
   "id": "86fb72a7",
   "metadata": {
    "execution": {
     "iopub.execute_input": "2023-04-03T10:05:00.556633Z",
     "iopub.status.busy": "2023-04-03T10:05:00.556179Z",
     "iopub.status.idle": "2023-04-03T10:05:00.564818Z",
     "shell.execute_reply": "2023-04-03T10:05:00.563132Z"
    },
    "papermill": {
     "duration": 0.021533,
     "end_time": "2023-04-03T10:05:00.567693",
     "exception": false,
     "start_time": "2023-04-03T10:05:00.546160",
     "status": "completed"
    },
    "tags": []
   },
   "outputs": [
    {
     "name": "stdout",
     "output_type": "stream",
     "text": [
      "Snowflake Inc. Company Name                                              Snowflake Inc.\n",
      "Industry                                                      Technology\n",
      "Sector                                              Software Application\n",
      "HQ State                                                         Montana\n",
      "Annual Revenue 2022-2023 (USD in Billions)                          2.06\n",
      "Market Cap (USD in Trillions)                                      0.046\n",
      "Stock Name                                                          SNOW\n",
      "Annual Income Tax in 2022-2023 (USD in Billions)                   0.003\n",
      "Employee Size                                                       4991\n",
      "Age                                                                   11\n",
      "Name: 41, dtype: object\n"
     ]
    }
   ],
   "source": [
    "# Company having lowest Revenue and other Details \n",
    "lowest_revenue = df.loc[df['Annual Revenue 2022-2023 (USD in Billions)'].idxmin()]\n",
    "company_name = lowest_revenue['Company Name']\n",
    "print(company_name, lowest_revenue)"
   ]
  },
  {
   "cell_type": "markdown",
   "id": "4d87487c",
   "metadata": {
    "papermill": {
     "duration": 0.007697,
     "end_time": "2023-04-03T10:05:00.583399",
     "exception": false,
     "start_time": "2023-04-03T10:05:00.575702",
     "status": "completed"
    },
    "tags": []
   },
   "source": [
    "## lowest revenue company is \"Snowflake Inc\""
   ]
  },
  {
   "cell_type": "code",
   "execution_count": 13,
   "id": "245c56ed",
   "metadata": {
    "execution": {
     "iopub.execute_input": "2023-04-03T10:05:00.601978Z",
     "iopub.status.busy": "2023-04-03T10:05:00.601567Z",
     "iopub.status.idle": "2023-04-03T10:05:00.610360Z",
     "shell.execute_reply": "2023-04-03T10:05:00.609160Z"
    },
    "papermill": {
     "duration": 0.021689,
     "end_time": "2023-04-03T10:05:00.612976",
     "exception": false,
     "start_time": "2023-04-03T10:05:00.591287",
     "status": "completed"
    },
    "tags": []
   },
   "outputs": [
    {
     "data": {
      "text/plain": [
       "California        33\n",
       "Texas              4\n",
       "Washington         2\n",
       "New York           2\n",
       "Connecticut        1\n",
       "Massachusetts      1\n",
       "New Jersey         1\n",
       "Wisconsin          1\n",
       "Idaho              1\n",
       "Montana            1\n",
       "Florida            1\n",
       "Arizona            1\n",
       "North Carolina     1\n",
       "Name: HQ State, dtype: int64"
      ]
     },
     "execution_count": 13,
     "metadata": {},
     "output_type": "execute_result"
    }
   ],
   "source": [
    "df['HQ State'].value_counts()"
   ]
  },
  {
   "cell_type": "markdown",
   "id": "51721cab",
   "metadata": {
    "papermill": {
     "duration": 0.008165,
     "end_time": "2023-04-03T10:05:00.629411",
     "exception": false,
     "start_time": "2023-04-03T10:05:00.621246",
     "status": "completed"
    },
    "tags": []
   },
   "source": [
    "### Hence, California city has maximum Head querters located"
   ]
  },
  {
   "cell_type": "code",
   "execution_count": 14,
   "id": "818b9181",
   "metadata": {
    "execution": {
     "iopub.execute_input": "2023-04-03T10:05:00.648919Z",
     "iopub.status.busy": "2023-04-03T10:05:00.647859Z",
     "iopub.status.idle": "2023-04-03T10:05:00.658698Z",
     "shell.execute_reply": "2023-04-03T10:05:00.657394Z"
    },
    "papermill": {
     "duration": 0.023641,
     "end_time": "2023-04-03T10:05:00.661571",
     "exception": false,
     "start_time": "2023-04-03T10:05:00.637930",
     "status": "completed"
    },
    "tags": []
   },
   "outputs": [
    {
     "data": {
      "text/plain": [
       "Software Application        15\n",
       "Semiconductors              14\n",
       "Software Infrastructure     12\n",
       "IT Services                  3\n",
       "Computer Hardware            3\n",
       "Consumer Electronics         1\n",
       "Communication Equipments     1\n",
       "Electronic Components        1\n",
       "Name: Sector, dtype: int64"
      ]
     },
     "execution_count": 14,
     "metadata": {},
     "output_type": "execute_result"
    }
   ],
   "source": [
    "# Let's check which  sector companie's fall maximum\n",
    "df['Sector'].value_counts()"
   ]
  },
  {
   "cell_type": "markdown",
   "id": "f6c92ab8",
   "metadata": {
    "papermill": {
     "duration": 0.007713,
     "end_time": "2023-04-03T10:05:00.677518",
     "exception": false,
     "start_time": "2023-04-03T10:05:00.669805",
     "status": "completed"
    },
    "tags": []
   },
   "source": [
    "### Hence, maximum company's fall into  Sector \"Software Application\""
   ]
  },
  {
   "cell_type": "code",
   "execution_count": 15,
   "id": "2c33744f",
   "metadata": {
    "execution": {
     "iopub.execute_input": "2023-04-03T10:05:00.695994Z",
     "iopub.status.busy": "2023-04-03T10:05:00.695569Z",
     "iopub.status.idle": "2023-04-03T10:05:00.704160Z",
     "shell.execute_reply": "2023-04-03T10:05:00.702811Z"
    },
    "papermill": {
     "duration": 0.021838,
     "end_time": "2023-04-03T10:05:00.707475",
     "exception": false,
     "start_time": "2023-04-03T10:05:00.685637",
     "status": "completed"
    },
    "tags": []
   },
   "outputs": [
    {
     "name": "stdout",
     "output_type": "stream",
     "text": [
      "Company Name    Workday Inc.\n",
      "Age                      133\n",
      "dtype: object\n"
     ]
    }
   ],
   "source": [
    "# Let's Check which is oldest organisation \n",
    "Oldest_organisation = df[['Company Name','Age']].max()\n",
    "print(Oldest_organisation)"
   ]
  },
  {
   "cell_type": "markdown",
   "id": "3e94b97a",
   "metadata": {
    "papermill": {
     "duration": 0.007872,
     "end_time": "2023-04-03T10:05:00.724572",
     "exception": false,
     "start_time": "2023-04-03T10:05:00.716700",
     "status": "completed"
    },
    "tags": []
   },
   "source": [
    "### Hence, Oldest company name is \" Workday Inc and Age is 133 Years\""
   ]
  },
  {
   "cell_type": "code",
   "execution_count": 16,
   "id": "e7db2769",
   "metadata": {
    "execution": {
     "iopub.execute_input": "2023-04-03T10:05:00.744088Z",
     "iopub.status.busy": "2023-04-03T10:05:00.743613Z",
     "iopub.status.idle": "2023-04-03T10:05:00.753688Z",
     "shell.execute_reply": "2023-04-03T10:05:00.751999Z"
    },
    "papermill": {
     "duration": 0.023525,
     "end_time": "2023-04-03T10:05:00.756700",
     "exception": false,
     "start_time": "2023-04-03T10:05:00.733175",
     "status": "completed"
    },
    "tags": []
   },
   "outputs": [
    {
     "name": "stdout",
     "output_type": "stream",
     "text": [
      "Maximum Employee size is: Company Name     Workday Inc.\n",
      "Employee Size         1541000\n",
      "dtype: object\n"
     ]
    }
   ],
   "source": [
    "# Let's check which company has highest employee\n",
    "max_employee = df[['Company Name','Employee Size']].max()\n",
    "print('Maximum Employee size is:',max_employee)"
   ]
  },
  {
   "cell_type": "markdown",
   "id": "db852c1f",
   "metadata": {
    "papermill": {
     "duration": 0.007918,
     "end_time": "2023-04-03T10:05:00.773186",
     "exception": false,
     "start_time": "2023-04-03T10:05:00.765268",
     "status": "completed"
    },
    "tags": []
   },
   "source": [
    "### Hence, Workday company has maximum employee "
   ]
  },
  {
   "cell_type": "code",
   "execution_count": 17,
   "id": "4f0e4931",
   "metadata": {
    "execution": {
     "iopub.execute_input": "2023-04-03T10:05:00.792315Z",
     "iopub.status.busy": "2023-04-03T10:05:00.791212Z",
     "iopub.status.idle": "2023-04-03T10:05:01.169541Z",
     "shell.execute_reply": "2023-04-03T10:05:01.168131Z"
    },
    "papermill": {
     "duration": 0.390931,
     "end_time": "2023-04-03T10:05:01.172362",
     "exception": false,
     "start_time": "2023-04-03T10:05:00.781431",
     "status": "completed"
    },
    "tags": []
   },
   "outputs": [
    {
     "data": {
      "text/plain": [
       "<AxesSubplot:xlabel='Market Cap (USD in Trillions)', ylabel='Count'>"
      ]
     },
     "execution_count": 17,
     "metadata": {},
     "output_type": "execute_result"
    },
    {
     "data": {
      "image/png": "[encoded data removed]",
      "text/plain": [
       "<Figure size 640x480 with 1 Axes>"
      ]
     },
     "metadata": {},
     "output_type": "display_data"
    }
   ],
   "source": [
    "sns.histplot(df['Market Cap (USD in Trillions)'])"
   ]
  },
  {
   "cell_type": "markdown",
   "id": "439d5358",
   "metadata": {
    "papermill": {
     "duration": 0.009285,
     "end_time": "2023-04-03T10:05:01.190842",
     "exception": false,
     "start_time": "2023-04-03T10:05:01.181557",
     "status": "completed"
    },
    "tags": []
   },
   "source": [
    "### Inference:\n",
    "###          maximum companies fall in market cap 0.1 to 0.4(USD in Trillions)"
   ]
  },
  {
   "cell_type": "code",
   "execution_count": 18,
   "id": "cf8c900d",
   "metadata": {
    "execution": {
     "iopub.execute_input": "2023-04-03T10:05:01.211767Z",
     "iopub.status.busy": "2023-04-03T10:05:01.211058Z",
     "iopub.status.idle": "2023-04-03T10:05:01.686090Z",
     "shell.execute_reply": "2023-04-03T10:05:01.684760Z"
    },
    "papermill": {
     "duration": 0.488583,
     "end_time": "2023-04-03T10:05:01.689053",
     "exception": false,
     "start_time": "2023-04-03T10:05:01.200470",
     "status": "completed"
    },
    "tags": []
   },
   "outputs": [
    {
     "data": {
      "text/plain": [
       "<AxesSubplot:>"
      ]
     },
     "execution_count": 18,
     "metadata": {},
     "output_type": "execute_result"
    },
    {
     "data": {
      "image/png": "[encoded data removed]",
      "text/plain": [
       "<Figure size 640x480 with 2 Axes>"
      ]
     },
     "metadata": {},
     "output_type": "display_data"
    }
   ],
   "source": [
    "sns.heatmap(data = df.corr(), annot = True, cmap = 'coolwarm')"
   ]
  },
  {
   "cell_type": "markdown",
   "id": "d67b0980",
   "metadata": {
    "papermill": {
     "duration": 0.009743,
     "end_time": "2023-04-03T10:05:01.709053",
     "exception": false,
     "start_time": "2023-04-03T10:05:01.699310",
     "status": "completed"
    },
    "tags": []
   },
   "source": [
    "### Inference\n",
    "### 1) Annual revenue and market cap strongly co related\n",
    "### 2) Annual Income tax and annual revenue strongly co related\n",
    "### 3) Employee size and Annual revenue strongly co related"
   ]
  },
  {
   "cell_type": "code",
   "execution_count": null,
   "id": "139fc900",
   "metadata": {
    "papermill": {
     "duration": 0.009603,
     "end_time": "2023-04-03T10:05:01.728745",
     "exception": false,
     "start_time": "2023-04-03T10:05:01.719142",
     "status": "completed"
    },
    "tags": []
   },
   "outputs": [],
   "source": []
  }
 ],
 "metadata": {
  "kernelspec": {
   "display_name": "Python 3",
   "language": "python",
   "name": "python3"
  },
  "language_info": {
   "codemirror_mode": {
    "name": "ipython",
    "version": 3
   },
   "file_extension": ".py",
   "mimetype": "text/x-python",
   "name": "python",
   "nbconvert_exporter": "python",
   "pygments_lexer": "ipython3",
   "version": "3.7.12"
  },
  "papermill": {
   "default_parameters": {},
   "duration": 15.851458,
   "end_time": "2023-04-03T10:05:01.961990",
   "environment_variables": {},
   "exception": null,
   "input_path": "__notebook__.ipynb",
   "output_path": "__notebook__.ipynb",
   "parameters": {},
   "start_time": "2023-04-03T10:04:46.110532",
   "version": "2.4.0"
  }
 },
 "nbformat": 4,
 "nbformat_minor": 5
}
