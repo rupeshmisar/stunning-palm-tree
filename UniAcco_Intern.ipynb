{
  "nbformat": 4,
  "nbformat_minor": 0,
  "metadata": {
    "colab": {
      "provenance": []
    },
    "kernelspec": {
      "name": "python3",
      "display_name": "Python 3"
    },
    "language_info": {
      "name": "python"
    }
  },
  "cells": [
    {
      "cell_type": "code",
      "execution_count": 363,
      "metadata": {
        "id": "3Djtd8Z7ybWZ"
      },
      "outputs": [],
      "source": [
        "# Import Required Library\n",
        "import numpy as np\n",
        "import pandas as pd\n",
        "import matplotlib.pyplot as plt\n",
        "import seaborn as sns"
      ]
    },
    {
      "cell_type": "markdown",
      "source": [
        "# 1. Data Acquisition and understand the data"
      ],
      "metadata": {
        "id": "NHSAJeel0YqW"
      }
    },
    {
      "cell_type": "code",
      "source": [
        "df = pd.read_csv(\"/content/Data_Science_Internship - Dump.csv\")"
      ],
      "metadata": {
        "id": "E6_8wTOzzhuK"
      },
      "execution_count": 364,
      "outputs": []
    },
    {
      "cell_type": "code",
      "source": [
        "df.shape"
      ],
      "metadata": {
        "colab": {
          "base_uri": "https://localhost:8080/"
        },
        "id": "FujKcWHRzvee",
        "outputId": "b2cc3f54-2ec8-45bc-8c12-cdbd7f5169a4"
      },
      "execution_count": 365,
      "outputs": [
        {
          "output_type": "execute_result",
          "data": {
            "text/plain": [
              "(46608, 16)"
            ]
          },
          "metadata": {},
          "execution_count": 365
        }
      ]
    },
    {
      "cell_type": "code",
      "source": [
        "df.head()"
      ],
      "metadata": {
        "colab": {
          "base_uri": "https://localhost:8080/",
          "height": 392
        },
        "id": "TI2hSslSzvh7",
        "outputId": "e96b12a5-e89f-46a3-b6f5-f58173534f23"
      },
      "execution_count": 366,
      "outputs": [
        {
          "output_type": "execute_result",
          "data": {
            "text/plain": [
              "   Unnamed: 0                                           Agent_id status  \\\n",
              "0           0  1deba9e96f404694373de9749ddd1ca8aa7bb823145a6f...   LOST   \n",
              "1           1  299ae77a4ef350ae0dd37d6bba1c002d03444fb1edb236...   LOST   \n",
              "2           2  c213697430c006013012dd2aca82dd9732aa0a1a6bca13...   LOST   \n",
              "3           3  eac9815a500f908736d303e23aa227f0957177b0e6756b...   LOST   \n",
              "4           4  1deba9e96f404694373de9749ddd1ca8aa7bb823145a6f...   LOST   \n",
              "\n",
              "      lost_reason                budget                                lease  \\\n",
              "0  Not responding                   NaN                                  NaN   \n",
              "1      Low budget                   NaN                                  NaN   \n",
              "2  Not responding  £121 - £180 Per Week  Full Year Course Stay 40 - 44 weeks   \n",
              "3      Low budget                   0-0                                    0   \n",
              "4       Junk lead                   NaN                                  NaN   \n",
              "\n",
              "     movein                                             source  \\\n",
              "0       NaN  9b2d5b4678781e53038e91ea5324530a03f27dc1d0e5f6...   \n",
              "1       NaN  9b2d5b4678781e53038e91ea5324530a03f27dc1d0e5f6...   \n",
              "2  31/08/22  7aae3e886e89fc1187a5c47d6cea1c22998ee610ade1f2...   \n",
              "3       NaN  ba2d0a29556ac20f86f45e4543c0825428cba33fd7a9ea...   \n",
              "4       NaN  9b2d5b4678781e53038e91ea5324530a03f27dc1d0e5f6...   \n",
              "\n",
              "                                         source_city  \\\n",
              "0  9b2d5b4678781e53038e91ea5324530a03f27dc1d0e5f6...   \n",
              "1  9b2d5b4678781e53038e91ea5324530a03f27dc1d0e5f6...   \n",
              "2  9b8cc3c63cdf447e463c11544924bf027945cbd29675f7...   \n",
              "3  a5f0d2d08eb0592087e3a3a2f9c1ba2c67cc30f2efd2bd...   \n",
              "4  9b2d5b4678781e53038e91ea5324530a03f27dc1d0e5f6...   \n",
              "\n",
              "                                      source_country  \\\n",
              "0  9b2d5b4678781e53038e91ea5324530a03f27dc1d0e5f6...   \n",
              "1  9b2d5b4678781e53038e91ea5324530a03f27dc1d0e5f6...   \n",
              "2  e09e10e67812e9d236ad900e5d46b4308fc62f5d69446a...   \n",
              "3  e09e10e67812e9d236ad900e5d46b4308fc62f5d69446a...   \n",
              "4  9b2d5b4678781e53038e91ea5324530a03f27dc1d0e5f6...   \n",
              "\n",
              "                                          utm_source  \\\n",
              "0  3d59f7548e1af2151b64135003ce63c0a484c26b9b8b16...   \n",
              "1  3d59f7548e1af2151b64135003ce63c0a484c26b9b8b16...   \n",
              "2  bbdefa2950f49882f295b1285d4fa9dec45fc4144bfb07...   \n",
              "3  bbdefa2950f49882f295b1285d4fa9dec45fc4144bfb07...   \n",
              "4  3d59f7548e1af2151b64135003ce63c0a484c26b9b8b16...   \n",
              "\n",
              "                                          utm_medium  \\\n",
              "0  268ad70eb5bc4737a2ae28162cbca30118cc94520e49ef...   \n",
              "1  268ad70eb5bc4737a2ae28162cbca30118cc94520e49ef...   \n",
              "2  09076eb7665d1fb9389c7c4517fee0b00e43092eb34821...   \n",
              "3  09076eb7665d1fb9389c7c4517fee0b00e43092eb34821...   \n",
              "4  268ad70eb5bc4737a2ae28162cbca30118cc94520e49ef...   \n",
              "\n",
              "                                            des_city  \\\n",
              "0  ecc0e7dc084f141b29479058967d0bc07dee25d9690a98...   \n",
              "1  5372372f3bf5896820cb2819300c3e681820d82c6efc54...   \n",
              "2  11ab03a1a8c367191355c152f39fe28cae5e426fce49ef...   \n",
              "3  19372fa44c57a01c37a5a8418779ca3d99b0b59731fb35...   \n",
              "4  9b2d5b4678781e53038e91ea5324530a03f27dc1d0e5f6...   \n",
              "\n",
              "                                         des_country room_type  \\\n",
              "0  8d23a6e37e0a6431a8f1b43a91026dcff51170a89a6512...       NaN   \n",
              "1  8d23a6e37e0a6431a8f1b43a91026dcff51170a89a6512...       NaN   \n",
              "2  8d23a6e37e0a6431a8f1b43a91026dcff51170a89a6512...   Ensuite   \n",
              "3  8d23a6e37e0a6431a8f1b43a91026dcff51170a89a6512...       NaN   \n",
              "4  9b2d5b4678781e53038e91ea5324530a03f27dc1d0e5f6...       NaN   \n",
              "\n",
              "                                             lead_id  \n",
              "0  cd5dc0d9393f3980d11d4ba6f88f8110c2b7a7f7796307...  \n",
              "1  b94693673a5f7178d1b114e4004ad52377d3244dd24a3d...  \n",
              "2  96ea4e2bf04496c044745938c0299c264c3f4ba079e572...  \n",
              "3  1d2b34d8add02a182a4129023766ca4585a8ddced0e5b3...  \n",
              "4  fc10fffd29cfbe93c55158fb47752a7501c211d253468c...  "
            ],
            "text/html": [
              "\n",
              "  <div id=\"df-6830e5b6-ed3d-4085-b16d-ef015c401bc5\">\n",
              "    <div class=\"colab-df-container\">\n",
              "      <div>\n",
              "<style scoped>\n",
              "    .dataframe tbody tr th:only-of-type {\n",
              "        vertical-align: middle;\n",
              "    }\n",
              "\n",
              "    .dataframe tbody tr th {\n",
              "        vertical-align: top;\n",
              "    }\n",
              "\n",
              "    .dataframe thead th {\n",
              "        text-align: right;\n",
              "    }\n",
              "</style>\n",
              "<table border=\"1\" class=\"dataframe\">\n",
              "  <thead>\n",
              "    <tr style=\"text-align: right;\">\n",
              "      <th></th>\n",
              "      <th>Unnamed: 0</th>\n",
              "      <th>Agent_id</th>\n",
              "      <th>status</th>\n",
              "      <th>lost_reason</th>\n",
              "      <th>budget</th>\n",
              "      <th>lease</th>\n",
              "      <th>movein</th>\n",
              "      <th>source</th>\n",
              "      <th>source_city</th>\n",
              "      <th>source_country</th>\n",
              "      <th>utm_source</th>\n",
              "      <th>utm_medium</th>\n",
              "      <th>des_city</th>\n",
              "      <th>des_country</th>\n",
              "      <th>room_type</th>\n",
              "      <th>lead_id</th>\n",
              "    </tr>\n",
              "  </thead>\n",
              "  <tbody>\n",
              "    <tr>\n",
              "      <th>0</th>\n",
              "      <td>0</td>\n",
              "      <td>1deba9e96f404694373de9749ddd1ca8aa7bb823145a6f...</td>\n",
              "      <td>LOST</td>\n",
              "      <td>Not responding</td>\n",
              "      <td>NaN</td>\n",
              "      <td>NaN</td>\n",
              "      <td>NaN</td>\n",
              "      <td>9b2d5b4678781e53038e91ea5324530a03f27dc1d0e5f6...</td>\n",
              "      <td>9b2d5b4678781e53038e91ea5324530a03f27dc1d0e5f6...</td>\n",
              "      <td>9b2d5b4678781e53038e91ea5324530a03f27dc1d0e5f6...</td>\n",
              "      <td>3d59f7548e1af2151b64135003ce63c0a484c26b9b8b16...</td>\n",
              "      <td>268ad70eb5bc4737a2ae28162cbca30118cc94520e49ef...</td>\n",
              "      <td>ecc0e7dc084f141b29479058967d0bc07dee25d9690a98...</td>\n",
              "      <td>8d23a6e37e0a6431a8f1b43a91026dcff51170a89a6512...</td>\n",
              "      <td>NaN</td>\n",
              "      <td>cd5dc0d9393f3980d11d4ba6f88f8110c2b7a7f7796307...</td>\n",
              "    </tr>\n",
              "    <tr>\n",
              "      <th>1</th>\n",
              "      <td>1</td>\n",
              "      <td>299ae77a4ef350ae0dd37d6bba1c002d03444fb1edb236...</td>\n",
              "      <td>LOST</td>\n",
              "      <td>Low budget</td>\n",
              "      <td>NaN</td>\n",
              "      <td>NaN</td>\n",
              "      <td>NaN</td>\n",
              "      <td>9b2d5b4678781e53038e91ea5324530a03f27dc1d0e5f6...</td>\n",
              "      <td>9b2d5b4678781e53038e91ea5324530a03f27dc1d0e5f6...</td>\n",
              "      <td>9b2d5b4678781e53038e91ea5324530a03f27dc1d0e5f6...</td>\n",
              "      <td>3d59f7548e1af2151b64135003ce63c0a484c26b9b8b16...</td>\n",
              "      <td>268ad70eb5bc4737a2ae28162cbca30118cc94520e49ef...</td>\n",
              "      <td>5372372f3bf5896820cb2819300c3e681820d82c6efc54...</td>\n",
              "      <td>8d23a6e37e0a6431a8f1b43a91026dcff51170a89a6512...</td>\n",
              "      <td>NaN</td>\n",
              "      <td>b94693673a5f7178d1b114e4004ad52377d3244dd24a3d...</td>\n",
              "    </tr>\n",
              "    <tr>\n",
              "      <th>2</th>\n",
              "      <td>2</td>\n",
              "      <td>c213697430c006013012dd2aca82dd9732aa0a1a6bca13...</td>\n",
              "      <td>LOST</td>\n",
              "      <td>Not responding</td>\n",
              "      <td>£121 - £180 Per Week</td>\n",
              "      <td>Full Year Course Stay 40 - 44 weeks</td>\n",
              "      <td>31/08/22</td>\n",
              "      <td>7aae3e886e89fc1187a5c47d6cea1c22998ee610ade1f2...</td>\n",
              "      <td>9b8cc3c63cdf447e463c11544924bf027945cbd29675f7...</td>\n",
              "      <td>e09e10e67812e9d236ad900e5d46b4308fc62f5d69446a...</td>\n",
              "      <td>bbdefa2950f49882f295b1285d4fa9dec45fc4144bfb07...</td>\n",
              "      <td>09076eb7665d1fb9389c7c4517fee0b00e43092eb34821...</td>\n",
              "      <td>11ab03a1a8c367191355c152f39fe28cae5e426fce49ef...</td>\n",
              "      <td>8d23a6e37e0a6431a8f1b43a91026dcff51170a89a6512...</td>\n",
              "      <td>Ensuite</td>\n",
              "      <td>96ea4e2bf04496c044745938c0299c264c3f4ba079e572...</td>\n",
              "    </tr>\n",
              "    <tr>\n",
              "      <th>3</th>\n",
              "      <td>3</td>\n",
              "      <td>eac9815a500f908736d303e23aa227f0957177b0e6756b...</td>\n",
              "      <td>LOST</td>\n",
              "      <td>Low budget</td>\n",
              "      <td>0-0</td>\n",
              "      <td>0</td>\n",
              "      <td>NaN</td>\n",
              "      <td>ba2d0a29556ac20f86f45e4543c0825428cba33fd7a9ea...</td>\n",
              "      <td>a5f0d2d08eb0592087e3a3a2f9c1ba2c67cc30f2efd2bd...</td>\n",
              "      <td>e09e10e67812e9d236ad900e5d46b4308fc62f5d69446a...</td>\n",
              "      <td>bbdefa2950f49882f295b1285d4fa9dec45fc4144bfb07...</td>\n",
              "      <td>09076eb7665d1fb9389c7c4517fee0b00e43092eb34821...</td>\n",
              "      <td>19372fa44c57a01c37a5a8418779ca3d99b0b59731fb35...</td>\n",
              "      <td>8d23a6e37e0a6431a8f1b43a91026dcff51170a89a6512...</td>\n",
              "      <td>NaN</td>\n",
              "      <td>1d2b34d8add02a182a4129023766ca4585a8ddced0e5b3...</td>\n",
              "    </tr>\n",
              "    <tr>\n",
              "      <th>4</th>\n",
              "      <td>4</td>\n",
              "      <td>1deba9e96f404694373de9749ddd1ca8aa7bb823145a6f...</td>\n",
              "      <td>LOST</td>\n",
              "      <td>Junk lead</td>\n",
              "      <td>NaN</td>\n",
              "      <td>NaN</td>\n",
              "      <td>NaN</td>\n",
              "      <td>9b2d5b4678781e53038e91ea5324530a03f27dc1d0e5f6...</td>\n",
              "      <td>9b2d5b4678781e53038e91ea5324530a03f27dc1d0e5f6...</td>\n",
              "      <td>9b2d5b4678781e53038e91ea5324530a03f27dc1d0e5f6...</td>\n",
              "      <td>3d59f7548e1af2151b64135003ce63c0a484c26b9b8b16...</td>\n",
              "      <td>268ad70eb5bc4737a2ae28162cbca30118cc94520e49ef...</td>\n",
              "      <td>9b2d5b4678781e53038e91ea5324530a03f27dc1d0e5f6...</td>\n",
              "      <td>9b2d5b4678781e53038e91ea5324530a03f27dc1d0e5f6...</td>\n",
              "      <td>NaN</td>\n",
              "      <td>fc10fffd29cfbe93c55158fb47752a7501c211d253468c...</td>\n",
              "    </tr>\n",
              "  </tbody>\n",
              "</table>\n",
              "</div>\n",
              "      <button class=\"colab-df-convert\" onclick=\"convertToInteractive('df-6830e5b6-ed3d-4085-b16d-ef015c401bc5')\"\n",
              "              title=\"Convert this dataframe to an interactive table.\"\n",
              "              style=\"display:none;\">\n",
              "        \n",
              "  <svg xmlns=\"http://www.w3.org/2000/svg\" height=\"24px\"viewBox=\"0 0 24 24\"\n",
              "       width=\"24px\">\n",
              "    <path d=\"M0 0h24v24H0V0z\" fill=\"none\"/>\n",
              "    <path d=\"M18.56 5.44l.94 2.06.94-2.06 2.06-.94-2.06-.94-.94-2.06-.94 2.06-2.06.94zm-11 1L8.5 8.5l.94-2.06 2.06-.94-2.06-.94L8.5 2.5l-.94 2.06-2.06.94zm10 10l.94 2.06.94-2.06 2.06-.94-2.06-.94-.94-2.06-.94 2.06-2.06.94z\"/><path d=\"M17.41 7.96l-1.37-1.37c-.4-.4-.92-.59-1.43-.59-.52 0-1.04.2-1.43.59L10.3 9.45l-7.72 7.72c-.78.78-.78 2.05 0 2.83L4 21.41c.39.39.9.59 1.41.59.51 0 1.02-.2 1.41-.59l7.78-7.78 2.81-2.81c.8-.78.8-2.07 0-2.86zM5.41 20L4 18.59l7.72-7.72 1.47 1.35L5.41 20z\"/>\n",
              "  </svg>\n",
              "      </button>\n",
              "      \n",
              "  <style>\n",
              "    .colab-df-container {\n",
              "      display:flex;\n",
              "      flex-wrap:wrap;\n",
              "      gap: 12px;\n",
              "    }\n",
              "\n",
              "    .colab-df-convert {\n",
              "      background-color: #E8F0FE;\n",
              "      border: none;\n",
              "      border-radius: 50%;\n",
              "      cursor: pointer;\n",
              "      display: none;\n",
              "      fill: #1967D2;\n",
              "      height: 32px;\n",
              "      padding: 0 0 0 0;\n",
              "      width: 32px;\n",
              "    }\n",
              "\n",
              "    .colab-df-convert:hover {\n",
              "      background-color: #E2EBFA;\n",
              "      box-shadow: 0px 1px 2px rgba(60, 64, 67, 0.3), 0px 1px 3px 1px rgba(60, 64, 67, 0.15);\n",
              "      fill: #174EA6;\n",
              "    }\n",
              "\n",
              "    [theme=dark] .colab-df-convert {\n",
              "      background-color: #3B4455;\n",
              "      fill: #D2E3FC;\n",
              "    }\n",
              "\n",
              "    [theme=dark] .colab-df-convert:hover {\n",
              "      background-color: #434B5C;\n",
              "      box-shadow: 0px 1px 3px 1px rgba(0, 0, 0, 0.15);\n",
              "      filter: drop-shadow(0px 1px 2px rgba(0, 0, 0, 0.3));\n",
              "      fill: #FFFFFF;\n",
              "    }\n",
              "  </style>\n",
              "\n",
              "      <script>\n",
              "        const buttonEl =\n",
              "          document.querySelector('#df-6830e5b6-ed3d-4085-b16d-ef015c401bc5 button.colab-df-convert');\n",
              "        buttonEl.style.display =\n",
              "          google.colab.kernel.accessAllowed ? 'block' : 'none';\n",
              "\n",
              "        async function convertToInteractive(key) {\n",
              "          const element = document.querySelector('#df-6830e5b6-ed3d-4085-b16d-ef015c401bc5');\n",
              "          const dataTable =\n",
              "            await google.colab.kernel.invokeFunction('convertToInteractive',\n",
              "                                                     [key], {});\n",
              "          if (!dataTable) return;\n",
              "\n",
              "          const docLinkHtml = 'Like what you see? Visit the ' +\n",
              "            '<a target=\"_blank\" href=https://colab.research.google.com/notebooks/data_table.ipynb>data table notebook</a>'\n",
              "            + ' to learn more about interactive tables.';\n",
              "          element.innerHTML = '';\n",
              "          dataTable['output_type'] = 'display_data';\n",
              "          await google.colab.output.renderOutput(dataTable, element);\n",
              "          const docLink = document.createElement('div');\n",
              "          docLink.innerHTML = docLinkHtml;\n",
              "          element.appendChild(docLink);\n",
              "        }\n",
              "      </script>\n",
              "    </div>\n",
              "  </div>\n",
              "  "
            ]
          },
          "metadata": {},
          "execution_count": 366
        }
      ]
    },
    {
      "cell_type": "code",
      "source": [
        "df.describe()"
      ],
      "metadata": {
        "colab": {
          "base_uri": "https://localhost:8080/",
          "height": 300
        },
        "id": "KX7-F4UqzvkH",
        "outputId": "4cce8476-4503-4594-eb44-50ae0e1f5e06"
      },
      "execution_count": 367,
      "outputs": [
        {
          "output_type": "execute_result",
          "data": {
            "text/plain": [
              "        Unnamed: 0\n",
              "count  46608.00000\n",
              "mean   23303.50000\n",
              "std    13454.71501\n",
              "min        0.00000\n",
              "25%    11651.75000\n",
              "50%    23303.50000\n",
              "75%    34955.25000\n",
              "max    46607.00000"
            ],
            "text/html": [
              "\n",
              "  <div id=\"df-5b551dad-694e-4c9f-b8ae-58b3a2ff769a\">\n",
              "    <div class=\"colab-df-container\">\n",
              "      <div>\n",
              "<style scoped>\n",
              "    .dataframe tbody tr th:only-of-type {\n",
              "        vertical-align: middle;\n",
              "    }\n",
              "\n",
              "    .dataframe tbody tr th {\n",
              "        vertical-align: top;\n",
              "    }\n",
              "\n",
              "    .dataframe thead th {\n",
              "        text-align: right;\n",
              "    }\n",
              "</style>\n",
              "<table border=\"1\" class=\"dataframe\">\n",
              "  <thead>\n",
              "    <tr style=\"text-align: right;\">\n",
              "      <th></th>\n",
              "      <th>Unnamed: 0</th>\n",
              "    </tr>\n",
              "  </thead>\n",
              "  <tbody>\n",
              "    <tr>\n",
              "      <th>count</th>\n",
              "      <td>46608.00000</td>\n",
              "    </tr>\n",
              "    <tr>\n",
              "      <th>mean</th>\n",
              "      <td>23303.50000</td>\n",
              "    </tr>\n",
              "    <tr>\n",
              "      <th>std</th>\n",
              "      <td>13454.71501</td>\n",
              "    </tr>\n",
              "    <tr>\n",
              "      <th>min</th>\n",
              "      <td>0.00000</td>\n",
              "    </tr>\n",
              "    <tr>\n",
              "      <th>25%</th>\n",
              "      <td>11651.75000</td>\n",
              "    </tr>\n",
              "    <tr>\n",
              "      <th>50%</th>\n",
              "      <td>23303.50000</td>\n",
              "    </tr>\n",
              "    <tr>\n",
              "      <th>75%</th>\n",
              "      <td>34955.25000</td>\n",
              "    </tr>\n",
              "    <tr>\n",
              "      <th>max</th>\n",
              "      <td>46607.00000</td>\n",
              "    </tr>\n",
              "  </tbody>\n",
              "</table>\n",
              "</div>\n",
              "      <button class=\"colab-df-convert\" onclick=\"convertToInteractive('df-5b551dad-694e-4c9f-b8ae-58b3a2ff769a')\"\n",
              "              title=\"Convert this dataframe to an interactive table.\"\n",
              "              style=\"display:none;\">\n",
              "        \n",
              "  <svg xmlns=\"http://www.w3.org/2000/svg\" height=\"24px\"viewBox=\"0 0 24 24\"\n",
              "       width=\"24px\">\n",
              "    <path d=\"M0 0h24v24H0V0z\" fill=\"none\"/>\n",
              "    <path d=\"M18.56 5.44l.94 2.06.94-2.06 2.06-.94-2.06-.94-.94-2.06-.94 2.06-2.06.94zm-11 1L8.5 8.5l.94-2.06 2.06-.94-2.06-.94L8.5 2.5l-.94 2.06-2.06.94zm10 10l.94 2.06.94-2.06 2.06-.94-2.06-.94-.94-2.06-.94 2.06-2.06.94z\"/><path d=\"M17.41 7.96l-1.37-1.37c-.4-.4-.92-.59-1.43-.59-.52 0-1.04.2-1.43.59L10.3 9.45l-7.72 7.72c-.78.78-.78 2.05 0 2.83L4 21.41c.39.39.9.59 1.41.59.51 0 1.02-.2 1.41-.59l7.78-7.78 2.81-2.81c.8-.78.8-2.07 0-2.86zM5.41 20L4 18.59l7.72-7.72 1.47 1.35L5.41 20z\"/>\n",
              "  </svg>\n",
              "      </button>\n",
              "      \n",
              "  <style>\n",
              "    .colab-df-container {\n",
              "      display:flex;\n",
              "      flex-wrap:wrap;\n",
              "      gap: 12px;\n",
              "    }\n",
              "\n",
              "    .colab-df-convert {\n",
              "      background-color: #E8F0FE;\n",
              "      border: none;\n",
              "      border-radius: 50%;\n",
              "      cursor: pointer;\n",
              "      display: none;\n",
              "      fill: #1967D2;\n",
              "      height: 32px;\n",
              "      padding: 0 0 0 0;\n",
              "      width: 32px;\n",
              "    }\n",
              "\n",
              "    .colab-df-convert:hover {\n",
              "      background-color: #E2EBFA;\n",
              "      box-shadow: 0px 1px 2px rgba(60, 64, 67, 0.3), 0px 1px 3px 1px rgba(60, 64, 67, 0.15);\n",
              "      fill: #174EA6;\n",
              "    }\n",
              "\n",
              "    [theme=dark] .colab-df-convert {\n",
              "      background-color: #3B4455;\n",
              "      fill: #D2E3FC;\n",
              "    }\n",
              "\n",
              "    [theme=dark] .colab-df-convert:hover {\n",
              "      background-color: #434B5C;\n",
              "      box-shadow: 0px 1px 3px 1px rgba(0, 0, 0, 0.15);\n",
              "      filter: drop-shadow(0px 1px 2px rgba(0, 0, 0, 0.3));\n",
              "      fill: #FFFFFF;\n",
              "    }\n",
              "  </style>\n",
              "\n",
              "      <script>\n",
              "        const buttonEl =\n",
              "          document.querySelector('#df-5b551dad-694e-4c9f-b8ae-58b3a2ff769a button.colab-df-convert');\n",
              "        buttonEl.style.display =\n",
              "          google.colab.kernel.accessAllowed ? 'block' : 'none';\n",
              "\n",
              "        async function convertToInteractive(key) {\n",
              "          const element = document.querySelector('#df-5b551dad-694e-4c9f-b8ae-58b3a2ff769a');\n",
              "          const dataTable =\n",
              "            await google.colab.kernel.invokeFunction('convertToInteractive',\n",
              "                                                     [key], {});\n",
              "          if (!dataTable) return;\n",
              "\n",
              "          const docLinkHtml = 'Like what you see? Visit the ' +\n",
              "            '<a target=\"_blank\" href=https://colab.research.google.com/notebooks/data_table.ipynb>data table notebook</a>'\n",
              "            + ' to learn more about interactive tables.';\n",
              "          element.innerHTML = '';\n",
              "          dataTable['output_type'] = 'display_data';\n",
              "          await google.colab.output.renderOutput(dataTable, element);\n",
              "          const docLink = document.createElement('div');\n",
              "          docLink.innerHTML = docLinkHtml;\n",
              "          element.appendChild(docLink);\n",
              "        }\n",
              "      </script>\n",
              "    </div>\n",
              "  </div>\n",
              "  "
            ]
          },
          "metadata": {},
          "execution_count": 367
        }
      ]
    },
    {
      "cell_type": "code",
      "source": [
        "df.info()"
      ],
      "metadata": {
        "colab": {
          "base_uri": "https://localhost:8080/"
        },
        "id": "7WyHAJWW0Psj",
        "outputId": "bc3e8ac3-cffc-4526-89f7-7cbb300bb3ea"
      },
      "execution_count": 368,
      "outputs": [
        {
          "output_type": "stream",
          "name": "stdout",
          "text": [
            "<class 'pandas.core.frame.DataFrame'>\n",
            "RangeIndex: 46608 entries, 0 to 46607\n",
            "Data columns (total 16 columns):\n",
            " #   Column          Non-Null Count  Dtype \n",
            "---  ------          --------------  ----- \n",
            " 0   Unnamed: 0      46608 non-null  int64 \n",
            " 1   Agent_id        46608 non-null  object\n",
            " 2   status          46608 non-null  object\n",
            " 3   lost_reason     43244 non-null  object\n",
            " 4   budget          42908 non-null  object\n",
            " 5   lease           44267 non-null  object\n",
            " 6   movein          32970 non-null  object\n",
            " 7   source          46608 non-null  object\n",
            " 8   source_city     46608 non-null  object\n",
            " 9   source_country  46608 non-null  object\n",
            " 10  utm_source      46608 non-null  object\n",
            " 11  utm_medium      46608 non-null  object\n",
            " 12  des_city        46608 non-null  object\n",
            " 13  des_country     46608 non-null  object\n",
            " 14  room_type       23061 non-null  object\n",
            " 15  lead_id         46608 non-null  object\n",
            "dtypes: int64(1), object(15)\n",
            "memory usage: 5.7+ MB\n"
          ]
        }
      ]
    },
    {
      "cell_type": "markdown",
      "source": [
        "#2. Cleaning the data"
      ],
      "metadata": {
        "id": "eA0SM4cf0SUY"
      }
    },
    {
      "cell_type": "code",
      "source": [
        "df.isnull().sum()"
      ],
      "metadata": {
        "colab": {
          "base_uri": "https://localhost:8080/"
        },
        "id": "fIVfLLNcz0FM",
        "outputId": "c132917e-4096-44a2-e260-050344189fb9"
      },
      "execution_count": 369,
      "outputs": [
        {
          "output_type": "execute_result",
          "data": {
            "text/plain": [
              "Unnamed: 0            0\n",
              "Agent_id              0\n",
              "status                0\n",
              "lost_reason        3364\n",
              "budget             3700\n",
              "lease              2341\n",
              "movein            13638\n",
              "source                0\n",
              "source_city           0\n",
              "source_country        0\n",
              "utm_source            0\n",
              "utm_medium            0\n",
              "des_city              0\n",
              "des_country           0\n",
              "room_type         23547\n",
              "lead_id               0\n",
              "dtype: int64"
            ]
          },
          "metadata": {},
          "execution_count": 369
        }
      ]
    },
    {
      "cell_type": "code",
      "source": [
        "df['status'].unique()"
      ],
      "metadata": {
        "colab": {
          "base_uri": "https://localhost:8080/"
        },
        "id": "TlaYrupVz0JL",
        "outputId": "e233ea56-4d29-4cee-df60-bff816efd2b4"
      },
      "execution_count": 370,
      "outputs": [
        {
          "output_type": "execute_result",
          "data": {
            "text/plain": [
              "array(['LOST', 'WON', 'OPPORTUNITY', 'CONTACTED', 'PROCESSING',\n",
              "       'IMPORTANT'], dtype=object)"
            ]
          },
          "metadata": {},
          "execution_count": 370
        }
      ]
    },
    {
      "cell_type": "code",
      "source": [
        "df['lost_reason'].nunique()"
      ],
      "metadata": {
        "colab": {
          "base_uri": "https://localhost:8080/"
        },
        "id": "dtr9Vkx3MOlX",
        "outputId": "a9def488-a559-4383-9877-87c3a08303d1"
      },
      "execution_count": 371,
      "outputs": [
        {
          "output_type": "execute_result",
          "data": {
            "text/plain": [
              "30"
            ]
          },
          "metadata": {},
          "execution_count": 371
        }
      ]
    },
    {
      "cell_type": "code",
      "source": [
        "df['budget'].nunique()"
      ],
      "metadata": {
        "colab": {
          "base_uri": "https://localhost:8080/"
        },
        "id": "RbivdQV7MOpC",
        "outputId": "6ddc0a16-28e4-4aec-b8d8-ca7ff47b3710"
      },
      "execution_count": 372,
      "outputs": [
        {
          "output_type": "execute_result",
          "data": {
            "text/plain": [
              "1857"
            ]
          },
          "metadata": {},
          "execution_count": 372
        }
      ]
    },
    {
      "cell_type": "code",
      "source": [
        "df['lease'].nunique()"
      ],
      "metadata": {
        "colab": {
          "base_uri": "https://localhost:8080/"
        },
        "id": "vFAw5as0MOse",
        "outputId": "506a1556-0873-4a6e-e86b-b2e2a2cfe626"
      },
      "execution_count": 373,
      "outputs": [
        {
          "output_type": "execute_result",
          "data": {
            "text/plain": [
              "311"
            ]
          },
          "metadata": {},
          "execution_count": 373
        }
      ]
    },
    {
      "cell_type": "code",
      "source": [
        "df['movein'].nunique()"
      ],
      "metadata": {
        "colab": {
          "base_uri": "https://localhost:8080/"
        },
        "id": "1DM5h3BhMO3f",
        "outputId": "adbc79f2-2b73-4852-d7c6-1e987101be62"
      },
      "execution_count": 374,
      "outputs": [
        {
          "output_type": "execute_result",
          "data": {
            "text/plain": [
              "477"
            ]
          },
          "metadata": {},
          "execution_count": 374
        }
      ]
    },
    {
      "cell_type": "code",
      "source": [
        "df['room_type'].value_counts()"
      ],
      "metadata": {
        "colab": {
          "base_uri": "https://localhost:8080/"
        },
        "id": "2mssVyID2U1z",
        "outputId": "fd7b741f-d59f-4852-d538-bbc2e508f44c"
      },
      "execution_count": 375,
      "outputs": [
        {
          "output_type": "execute_result",
          "data": {
            "text/plain": [
              "Ensuite         12477\n",
              "Studio           6383\n",
              "Entire Place     4198\n",
              "Non-Ensuite         2\n",
              "Twin-Studio         1\n",
              "Name: room_type, dtype: int64"
            ]
          },
          "metadata": {},
          "execution_count": 375
        }
      ]
    },
    {
      "cell_type": "code",
      "source": [
        "df['status'].value_counts()"
      ],
      "metadata": {
        "colab": {
          "base_uri": "https://localhost:8080/"
        },
        "id": "Azh3ifpzhflM",
        "outputId": "74fef20c-b986-4145-f427-d83a788ba24f"
      },
      "execution_count": 376,
      "outputs": [
        {
          "output_type": "execute_result",
          "data": {
            "text/plain": [
              "LOST           43244\n",
              "WON             3073\n",
              "OPPORTUNITY      254\n",
              "CONTACTED         28\n",
              "PROCESSING         8\n",
              "IMPORTANT          1\n",
              "Name: status, dtype: int64"
            ]
          },
          "metadata": {},
          "execution_count": 376
        }
      ]
    },
    {
      "cell_type": "markdown",
      "source": [
        "# 3. Handle Missing values"
      ],
      "metadata": {
        "id": "Q3dVnqmBHNER"
      }
    },
    {
      "cell_type": "code",
      "source": [
        "# Dropping unmaned and room type columns as 50% missing data in room type \n",
        "df.drop(columns = ['Agent_id','Unnamed: 0','room_type'],axis=  1, inplace=True)"
      ],
      "metadata": {
        "id": "4XTmyJMCz0K1"
      },
      "execution_count": 377,
      "outputs": []
    },
    {
      "cell_type": "code",
      "source": [
        "df.shape"
      ],
      "metadata": {
        "colab": {
          "base_uri": "https://localhost:8080/"
        },
        "id": "EJ24FYjtz0M9",
        "outputId": "3d4eb459-60b3-4aca-f41c-fa172c11ca0a"
      },
      "execution_count": 378,
      "outputs": [
        {
          "output_type": "execute_result",
          "data": {
            "text/plain": [
              "(46608, 13)"
            ]
          },
          "metadata": {},
          "execution_count": 378
        }
      ]
    },
    {
      "cell_type": "code",
      "source": [
        "df_new = df.drop(df[df['status'].isin(['OPPORTUNITY','CONTACTED','PROCESSING','IMPORTANT'])].index)"
      ],
      "metadata": {
        "id": "mqVe2dMEz0QY"
      },
      "execution_count": 379,
      "outputs": []
    },
    {
      "cell_type": "code",
      "source": [
        "df_new['status'].value_counts()"
      ],
      "metadata": {
        "colab": {
          "base_uri": "https://localhost:8080/"
        },
        "id": "K-Zn4nVB4pnY",
        "outputId": "97784300-d3b7-465d-fe74-18a8e08a26d2"
      },
      "execution_count": 380,
      "outputs": [
        {
          "output_type": "execute_result",
          "data": {
            "text/plain": [
              "LOST    43244\n",
              "WON      3073\n",
              "Name: status, dtype: int64"
            ]
          },
          "metadata": {},
          "execution_count": 380
        }
      ]
    },
    {
      "cell_type": "code",
      "source": [
        "df_new = df_new.replace('9b2d5b4678781e53038e91ea5324530a03f27dc1d0e5f6c9bc9d493a23be9de0' , 'NaN')"
      ],
      "metadata": {
        "id": "rRmqNGxOG050"
      },
      "execution_count": 381,
      "outputs": []
    },
    {
      "cell_type": "code",
      "source": [
        "df_new.head()"
      ],
      "metadata": {
        "colab": {
          "base_uri": "https://localhost:8080/",
          "height": 374
        },
        "id": "kRfl51jaG07X",
        "outputId": "cae6927a-2148-4c9d-cde6-7e50191ce56f"
      },
      "execution_count": 382,
      "outputs": [
        {
          "output_type": "execute_result",
          "data": {
            "text/plain": [
              "  status     lost_reason                budget  \\\n",
              "0   LOST  Not responding                   NaN   \n",
              "1   LOST      Low budget                   NaN   \n",
              "2   LOST  Not responding  £121 - £180 Per Week   \n",
              "3   LOST      Low budget                   0-0   \n",
              "4   LOST       Junk lead                   NaN   \n",
              "\n",
              "                                 lease    movein  \\\n",
              "0                                  NaN       NaN   \n",
              "1                                  NaN       NaN   \n",
              "2  Full Year Course Stay 40 - 44 weeks  31/08/22   \n",
              "3                                    0       NaN   \n",
              "4                                  NaN       NaN   \n",
              "\n",
              "                                              source  \\\n",
              "0                                                NaN   \n",
              "1                                                NaN   \n",
              "2  7aae3e886e89fc1187a5c47d6cea1c22998ee610ade1f2...   \n",
              "3  ba2d0a29556ac20f86f45e4543c0825428cba33fd7a9ea...   \n",
              "4                                                NaN   \n",
              "\n",
              "                                         source_city  \\\n",
              "0                                                NaN   \n",
              "1                                                NaN   \n",
              "2  9b8cc3c63cdf447e463c11544924bf027945cbd29675f7...   \n",
              "3  a5f0d2d08eb0592087e3a3a2f9c1ba2c67cc30f2efd2bd...   \n",
              "4                                                NaN   \n",
              "\n",
              "                                      source_country  \\\n",
              "0                                                NaN   \n",
              "1                                                NaN   \n",
              "2  e09e10e67812e9d236ad900e5d46b4308fc62f5d69446a...   \n",
              "3  e09e10e67812e9d236ad900e5d46b4308fc62f5d69446a...   \n",
              "4                                                NaN   \n",
              "\n",
              "                                          utm_source  \\\n",
              "0  3d59f7548e1af2151b64135003ce63c0a484c26b9b8b16...   \n",
              "1  3d59f7548e1af2151b64135003ce63c0a484c26b9b8b16...   \n",
              "2  bbdefa2950f49882f295b1285d4fa9dec45fc4144bfb07...   \n",
              "3  bbdefa2950f49882f295b1285d4fa9dec45fc4144bfb07...   \n",
              "4  3d59f7548e1af2151b64135003ce63c0a484c26b9b8b16...   \n",
              "\n",
              "                                          utm_medium  \\\n",
              "0  268ad70eb5bc4737a2ae28162cbca30118cc94520e49ef...   \n",
              "1  268ad70eb5bc4737a2ae28162cbca30118cc94520e49ef...   \n",
              "2  09076eb7665d1fb9389c7c4517fee0b00e43092eb34821...   \n",
              "3  09076eb7665d1fb9389c7c4517fee0b00e43092eb34821...   \n",
              "4  268ad70eb5bc4737a2ae28162cbca30118cc94520e49ef...   \n",
              "\n",
              "                                            des_city  \\\n",
              "0  ecc0e7dc084f141b29479058967d0bc07dee25d9690a98...   \n",
              "1  5372372f3bf5896820cb2819300c3e681820d82c6efc54...   \n",
              "2  11ab03a1a8c367191355c152f39fe28cae5e426fce49ef...   \n",
              "3  19372fa44c57a01c37a5a8418779ca3d99b0b59731fb35...   \n",
              "4                                                NaN   \n",
              "\n",
              "                                         des_country  \\\n",
              "0  8d23a6e37e0a6431a8f1b43a91026dcff51170a89a6512...   \n",
              "1  8d23a6e37e0a6431a8f1b43a91026dcff51170a89a6512...   \n",
              "2  8d23a6e37e0a6431a8f1b43a91026dcff51170a89a6512...   \n",
              "3  8d23a6e37e0a6431a8f1b43a91026dcff51170a89a6512...   \n",
              "4                                                NaN   \n",
              "\n",
              "                                             lead_id  \n",
              "0  cd5dc0d9393f3980d11d4ba6f88f8110c2b7a7f7796307...  \n",
              "1  b94693673a5f7178d1b114e4004ad52377d3244dd24a3d...  \n",
              "2  96ea4e2bf04496c044745938c0299c264c3f4ba079e572...  \n",
              "3  1d2b34d8add02a182a4129023766ca4585a8ddced0e5b3...  \n",
              "4  fc10fffd29cfbe93c55158fb47752a7501c211d253468c...  "
            ],
            "text/html": [
              "\n",
              "  <div id=\"df-7c79205a-ed1e-4c2e-8c44-03524f85c4ca\">\n",
              "    <div class=\"colab-df-container\">\n",
              "      <div>\n",
              "<style scoped>\n",
              "    .dataframe tbody tr th:only-of-type {\n",
              "        vertical-align: middle;\n",
              "    }\n",
              "\n",
              "    .dataframe tbody tr th {\n",
              "        vertical-align: top;\n",
              "    }\n",
              "\n",
              "    .dataframe thead th {\n",
              "        text-align: right;\n",
              "    }\n",
              "</style>\n",
              "<table border=\"1\" class=\"dataframe\">\n",
              "  <thead>\n",
              "    <tr style=\"text-align: right;\">\n",
              "      <th></th>\n",
              "      <th>status</th>\n",
              "      <th>lost_reason</th>\n",
              "      <th>budget</th>\n",
              "      <th>lease</th>\n",
              "      <th>movein</th>\n",
              "      <th>source</th>\n",
              "      <th>source_city</th>\n",
              "      <th>source_country</th>\n",
              "      <th>utm_source</th>\n",
              "      <th>utm_medium</th>\n",
              "      <th>des_city</th>\n",
              "      <th>des_country</th>\n",
              "      <th>lead_id</th>\n",
              "    </tr>\n",
              "  </thead>\n",
              "  <tbody>\n",
              "    <tr>\n",
              "      <th>0</th>\n",
              "      <td>LOST</td>\n",
              "      <td>Not responding</td>\n",
              "      <td>NaN</td>\n",
              "      <td>NaN</td>\n",
              "      <td>NaN</td>\n",
              "      <td>NaN</td>\n",
              "      <td>NaN</td>\n",
              "      <td>NaN</td>\n",
              "      <td>3d59f7548e1af2151b64135003ce63c0a484c26b9b8b16...</td>\n",
              "      <td>268ad70eb5bc4737a2ae28162cbca30118cc94520e49ef...</td>\n",
              "      <td>ecc0e7dc084f141b29479058967d0bc07dee25d9690a98...</td>\n",
              "      <td>8d23a6e37e0a6431a8f1b43a91026dcff51170a89a6512...</td>\n",
              "      <td>cd5dc0d9393f3980d11d4ba6f88f8110c2b7a7f7796307...</td>\n",
              "    </tr>\n",
              "    <tr>\n",
              "      <th>1</th>\n",
              "      <td>LOST</td>\n",
              "      <td>Low budget</td>\n",
              "      <td>NaN</td>\n",
              "      <td>NaN</td>\n",
              "      <td>NaN</td>\n",
              "      <td>NaN</td>\n",
              "      <td>NaN</td>\n",
              "      <td>NaN</td>\n",
              "      <td>3d59f7548e1af2151b64135003ce63c0a484c26b9b8b16...</td>\n",
              "      <td>268ad70eb5bc4737a2ae28162cbca30118cc94520e49ef...</td>\n",
              "      <td>5372372f3bf5896820cb2819300c3e681820d82c6efc54...</td>\n",
              "      <td>8d23a6e37e0a6431a8f1b43a91026dcff51170a89a6512...</td>\n",
              "      <td>b94693673a5f7178d1b114e4004ad52377d3244dd24a3d...</td>\n",
              "    </tr>\n",
              "    <tr>\n",
              "      <th>2</th>\n",
              "      <td>LOST</td>\n",
              "      <td>Not responding</td>\n",
              "      <td>£121 - £180 Per Week</td>\n",
              "      <td>Full Year Course Stay 40 - 44 weeks</td>\n",
              "      <td>31/08/22</td>\n",
              "      <td>7aae3e886e89fc1187a5c47d6cea1c22998ee610ade1f2...</td>\n",
              "      <td>9b8cc3c63cdf447e463c11544924bf027945cbd29675f7...</td>\n",
              "      <td>e09e10e67812e9d236ad900e5d46b4308fc62f5d69446a...</td>\n",
              "      <td>bbdefa2950f49882f295b1285d4fa9dec45fc4144bfb07...</td>\n",
              "      <td>09076eb7665d1fb9389c7c4517fee0b00e43092eb34821...</td>\n",
              "      <td>11ab03a1a8c367191355c152f39fe28cae5e426fce49ef...</td>\n",
              "      <td>8d23a6e37e0a6431a8f1b43a91026dcff51170a89a6512...</td>\n",
              "      <td>96ea4e2bf04496c044745938c0299c264c3f4ba079e572...</td>\n",
              "    </tr>\n",
              "    <tr>\n",
              "      <th>3</th>\n",
              "      <td>LOST</td>\n",
              "      <td>Low budget</td>\n",
              "      <td>0-0</td>\n",
              "      <td>0</td>\n",
              "      <td>NaN</td>\n",
              "      <td>ba2d0a29556ac20f86f45e4543c0825428cba33fd7a9ea...</td>\n",
              "      <td>a5f0d2d08eb0592087e3a3a2f9c1ba2c67cc30f2efd2bd...</td>\n",
              "      <td>e09e10e67812e9d236ad900e5d46b4308fc62f5d69446a...</td>\n",
              "      <td>bbdefa2950f49882f295b1285d4fa9dec45fc4144bfb07...</td>\n",
              "      <td>09076eb7665d1fb9389c7c4517fee0b00e43092eb34821...</td>\n",
              "      <td>19372fa44c57a01c37a5a8418779ca3d99b0b59731fb35...</td>\n",
              "      <td>8d23a6e37e0a6431a8f1b43a91026dcff51170a89a6512...</td>\n",
              "      <td>1d2b34d8add02a182a4129023766ca4585a8ddced0e5b3...</td>\n",
              "    </tr>\n",
              "    <tr>\n",
              "      <th>4</th>\n",
              "      <td>LOST</td>\n",
              "      <td>Junk lead</td>\n",
              "      <td>NaN</td>\n",
              "      <td>NaN</td>\n",
              "      <td>NaN</td>\n",
              "      <td>NaN</td>\n",
              "      <td>NaN</td>\n",
              "      <td>NaN</td>\n",
              "      <td>3d59f7548e1af2151b64135003ce63c0a484c26b9b8b16...</td>\n",
              "      <td>268ad70eb5bc4737a2ae28162cbca30118cc94520e49ef...</td>\n",
              "      <td>NaN</td>\n",
              "      <td>NaN</td>\n",
              "      <td>fc10fffd29cfbe93c55158fb47752a7501c211d253468c...</td>\n",
              "    </tr>\n",
              "  </tbody>\n",
              "</table>\n",
              "</div>\n",
              "      <button class=\"colab-df-convert\" onclick=\"convertToInteractive('df-7c79205a-ed1e-4c2e-8c44-03524f85c4ca')\"\n",
              "              title=\"Convert this dataframe to an interactive table.\"\n",
              "              style=\"display:none;\">\n",
              "        \n",
              "  <svg xmlns=\"http://www.w3.org/2000/svg\" height=\"24px\"viewBox=\"0 0 24 24\"\n",
              "       width=\"24px\">\n",
              "    <path d=\"M0 0h24v24H0V0z\" fill=\"none\"/>\n",
              "    <path d=\"M18.56 5.44l.94 2.06.94-2.06 2.06-.94-2.06-.94-.94-2.06-.94 2.06-2.06.94zm-11 1L8.5 8.5l.94-2.06 2.06-.94-2.06-.94L8.5 2.5l-.94 2.06-2.06.94zm10 10l.94 2.06.94-2.06 2.06-.94-2.06-.94-.94-2.06-.94 2.06-2.06.94z\"/><path d=\"M17.41 7.96l-1.37-1.37c-.4-.4-.92-.59-1.43-.59-.52 0-1.04.2-1.43.59L10.3 9.45l-7.72 7.72c-.78.78-.78 2.05 0 2.83L4 21.41c.39.39.9.59 1.41.59.51 0 1.02-.2 1.41-.59l7.78-7.78 2.81-2.81c.8-.78.8-2.07 0-2.86zM5.41 20L4 18.59l7.72-7.72 1.47 1.35L5.41 20z\"/>\n",
              "  </svg>\n",
              "      </button>\n",
              "      \n",
              "  <style>\n",
              "    .colab-df-container {\n",
              "      display:flex;\n",
              "      flex-wrap:wrap;\n",
              "      gap: 12px;\n",
              "    }\n",
              "\n",
              "    .colab-df-convert {\n",
              "      background-color: #E8F0FE;\n",
              "      border: none;\n",
              "      border-radius: 50%;\n",
              "      cursor: pointer;\n",
              "      display: none;\n",
              "      fill: #1967D2;\n",
              "      height: 32px;\n",
              "      padding: 0 0 0 0;\n",
              "      width: 32px;\n",
              "    }\n",
              "\n",
              "    .colab-df-convert:hover {\n",
              "      background-color: #E2EBFA;\n",
              "      box-shadow: 0px 1px 2px rgba(60, 64, 67, 0.3), 0px 1px 3px 1px rgba(60, 64, 67, 0.15);\n",
              "      fill: #174EA6;\n",
              "    }\n",
              "\n",
              "    [theme=dark] .colab-df-convert {\n",
              "      background-color: #3B4455;\n",
              "      fill: #D2E3FC;\n",
              "    }\n",
              "\n",
              "    [theme=dark] .colab-df-convert:hover {\n",
              "      background-color: #434B5C;\n",
              "      box-shadow: 0px 1px 3px 1px rgba(0, 0, 0, 0.15);\n",
              "      filter: drop-shadow(0px 1px 2px rgba(0, 0, 0, 0.3));\n",
              "      fill: #FFFFFF;\n",
              "    }\n",
              "  </style>\n",
              "\n",
              "      <script>\n",
              "        const buttonEl =\n",
              "          document.querySelector('#df-7c79205a-ed1e-4c2e-8c44-03524f85c4ca button.colab-df-convert');\n",
              "        buttonEl.style.display =\n",
              "          google.colab.kernel.accessAllowed ? 'block' : 'none';\n",
              "\n",
              "        async function convertToInteractive(key) {\n",
              "          const element = document.querySelector('#df-7c79205a-ed1e-4c2e-8c44-03524f85c4ca');\n",
              "          const dataTable =\n",
              "            await google.colab.kernel.invokeFunction('convertToInteractive',\n",
              "                                                     [key], {});\n",
              "          if (!dataTable) return;\n",
              "\n",
              "          const docLinkHtml = 'Like what you see? Visit the ' +\n",
              "            '<a target=\"_blank\" href=https://colab.research.google.com/notebooks/data_table.ipynb>data table notebook</a>'\n",
              "            + ' to learn more about interactive tables.';\n",
              "          element.innerHTML = '';\n",
              "          dataTable['output_type'] = 'display_data';\n",
              "          await google.colab.output.renderOutput(dataTable, element);\n",
              "          const docLink = document.createElement('div');\n",
              "          docLink.innerHTML = docLinkHtml;\n",
              "          element.appendChild(docLink);\n",
              "        }\n",
              "      </script>\n",
              "    </div>\n",
              "  </div>\n",
              "  "
            ]
          },
          "metadata": {},
          "execution_count": 382
        }
      ]
    },
    {
      "cell_type": "markdown",
      "source": [
        "## Replace missing values with mode"
      ],
      "metadata": {
        "id": "6zbpePjb1787"
      }
    },
    {
      "cell_type": "code",
      "source": [
        "for col in df_new.columns:\n",
        "  df_new[col].fillna(df_new[col].mode()[0],inplace=True)"
      ],
      "metadata": {
        "id": "5r4RoumnG09K"
      },
      "execution_count": 383,
      "outputs": []
    },
    {
      "cell_type": "code",
      "source": [
        "df_new.shape"
      ],
      "metadata": {
        "id": "_DTb--1WG1Ak",
        "colab": {
          "base_uri": "https://localhost:8080/"
        },
        "outputId": "1f75be86-0f07-409d-9405-c9563bcca2a6"
      },
      "execution_count": 384,
      "outputs": [
        {
          "output_type": "execute_result",
          "data": {
            "text/plain": [
              "(46317, 13)"
            ]
          },
          "metadata": {},
          "execution_count": 384
        }
      ]
    },
    {
      "cell_type": "code",
      "source": [
        "df_new.isnull().sum()"
      ],
      "metadata": {
        "colab": {
          "base_uri": "https://localhost:8080/"
        },
        "id": "krLpXhiaPvEp",
        "outputId": "a47b6fc2-bf6e-46b2-cc35-3f8fd5b2502b"
      },
      "execution_count": 385,
      "outputs": [
        {
          "output_type": "execute_result",
          "data": {
            "text/plain": [
              "status            0\n",
              "lost_reason       0\n",
              "budget            0\n",
              "lease             0\n",
              "movein            0\n",
              "source            0\n",
              "source_city       0\n",
              "source_country    0\n",
              "utm_source        0\n",
              "utm_medium        0\n",
              "des_city          0\n",
              "des_country       0\n",
              "lead_id           0\n",
              "dtype: int64"
            ]
          },
          "metadata": {},
          "execution_count": 385
        }
      ]
    },
    {
      "cell_type": "code",
      "source": [
        "cat_cols = df_new.columns.tolist()"
      ],
      "metadata": {
        "id": "2c03WcQiK7t_"
      },
      "execution_count": 386,
      "outputs": []
    },
    {
      "cell_type": "code",
      "source": [
        "cat_cols"
      ],
      "metadata": {
        "colab": {
          "base_uri": "https://localhost:8080/"
        },
        "id": "g5ozYOhlMU99",
        "outputId": "cc456049-7989-4f79-89d8-c3c07c8f1231"
      },
      "execution_count": 387,
      "outputs": [
        {
          "output_type": "execute_result",
          "data": {
            "text/plain": [
              "['status',\n",
              " 'lost_reason',\n",
              " 'budget',\n",
              " 'lease',\n",
              " 'movein',\n",
              " 'source',\n",
              " 'source_city',\n",
              " 'source_country',\n",
              " 'utm_source',\n",
              " 'utm_medium',\n",
              " 'des_city',\n",
              " 'des_country',\n",
              " 'lead_id']"
            ]
          },
          "metadata": {},
          "execution_count": 387
        }
      ]
    },
    {
      "cell_type": "code",
      "source": [
        "from sklearn.preprocessing import LabelEncoder\n",
        "le = LabelEncoder()\n",
        "\n",
        "for col in cat_cols:\n",
        "    df_new[col] = le.fit_transform(df_new[col])\n",
        "  \n",
        "print(df_new)"
      ],
      "metadata": {
        "colab": {
          "base_uri": "https://localhost:8080/"
        },
        "id": "WtD0g1Wq_LQ1",
        "outputId": "0cf34aec-4aeb-44a7-9f59-212212441a55"
      },
      "execution_count": 388,
      "outputs": [
        {
          "output_type": "stream",
          "name": "stdout",
          "text": [
            "       status  lost_reason  budget  lease  movein  source  source_city  \\\n",
            "0           0           21    1834    266     165     444         2718   \n",
            "1           0           16    1834    266     165     444         2718   \n",
            "2           0           21    1752    266     463     343         2619   \n",
            "3           0           16      10      2     165     508         2818   \n",
            "4           0            8    1834    266     165     444         2718   \n",
            "...       ...          ...     ...    ...     ...     ...          ...   \n",
            "46603       0           15    1834    263      19     444         2125   \n",
            "46604       0           24    1834    286     431     444         2695   \n",
            "46605       0           15    1810    266     308     343         2125   \n",
            "46606       0           15     815     93     449     579         3944   \n",
            "46607       0           15    1793    266      19     343          351   \n",
            "\n",
            "       source_country  utm_source  utm_medium  des_city  des_country  lead_id  \n",
            "0                 113           5          10       206            8    24421  \n",
            "1                 113           5          10        74            8    22037  \n",
            "2                 166          26           3        18            8    17924  \n",
            "3                 166          26           3        26            8     3582  \n",
            "4                 113           5          10       141           10    30016  \n",
            "...               ...         ...         ...       ...          ...      ...  \n",
            "46603             100          26           3        22            8     3295  \n",
            "46604             100          26           3       135            8     3895  \n",
            "46605             100          26           3       206            8    25937  \n",
            "46606             134          19          50       206            8     3895  \n",
            "46607             166          26           3        85            8    13961  \n",
            "\n",
            "[46317 rows x 13 columns]\n"
          ]
        }
      ]
    },
    {
      "cell_type": "code",
      "source": [
        "final_df = pd.DataFrame(df_new)"
      ],
      "metadata": {
        "id": "xgz0xVTygprr"
      },
      "execution_count": 389,
      "outputs": []
    },
    {
      "cell_type": "code",
      "source": [
        "plt.figure(figsize= (14,10))\n",
        "sns.heatmap(final_df.corr(), annot=True, cmap = 'coolwarm')\n",
        "plt.show()"
      ],
      "metadata": {
        "colab": {
          "base_uri": "https://localhost:8080/",
          "height": 662
        },
        "id": "MYWpKTgOWnUw",
        "outputId": "6db9469e-0e1c-4a50-bc89-ea958aadc198"
      },
      "execution_count": 390,
      "outputs": [
        {
          "output_type": "display_data",
          "data": {
            "text/plain": [
              "<Figure size 1008x720 with 2 Axes>"
            ],
            "image/png": "[encoded data removed]"
          },
          "metadata": {
            "needs_background": "light"
          }
        }
      ]
    },
    {
      "cell_type": "code",
      "source": [
        "final_df.columns"
      ],
      "metadata": {
        "colab": {
          "base_uri": "https://localhost:8080/"
        },
        "id": "jOHoA6n-LCii",
        "outputId": "68af788e-b9eb-4db3-dcaf-b113d2f3656e"
      },
      "execution_count": 391,
      "outputs": [
        {
          "output_type": "execute_result",
          "data": {
            "text/plain": [
              "Index(['status', 'lost_reason', 'budget', 'lease', 'movein', 'source',\n",
              "       'source_city', 'source_country', 'utm_source', 'utm_medium', 'des_city',\n",
              "       'des_country', 'lead_id'],\n",
              "      dtype='object')"
            ]
          },
          "metadata": {},
          "execution_count": 391
        }
      ]
    },
    {
      "cell_type": "code",
      "source": [
        "X = final_df.drop(columns= ['status']).values\n",
        "y = final_df['status'].values"
      ],
      "metadata": {
        "id": "cYmCof-to0oK"
      },
      "execution_count": 392,
      "outputs": []
    },
    {
      "cell_type": "code",
      "source": [
        "from sklearn.model_selection import train_test_split\n",
        "X_train, X_test, y_train, y_test = train_test_split(X,y, test_size = 0.2, random_state = 12)"
      ],
      "metadata": {
        "id": "gUo1xNAuo0qO"
      },
      "execution_count": 393,
      "outputs": []
    },
    {
      "cell_type": "code",
      "source": [
        "print(X_train.shape)\n",
        "print(X_test.shape)\n",
        "print(y_train.shape)\n",
        "print(y_test.shape)"
      ],
      "metadata": {
        "colab": {
          "base_uri": "https://localhost:8080/"
        },
        "id": "rjDqKOuWSzp9",
        "outputId": "e28d9b07-9802-4bea-8972-f18dea851ba0"
      },
      "execution_count": 394,
      "outputs": [
        {
          "output_type": "stream",
          "name": "stdout",
          "text": [
            "(37053, 12)\n",
            "(9264, 12)\n",
            "(37053,)\n",
            "(9264,)\n"
          ]
        }
      ]
    },
    {
      "cell_type": "code",
      "source": [
        "from sklearn.preprocessing import StandardScaler\n",
        "ss = StandardScaler()\n",
        "X_train_scaled = ss.fit_transform(X_train)\n",
        "X_test_scaled = ss.fit_transform(X_test)"
      ],
      "metadata": {
        "id": "0VYTOydwwOoP"
      },
      "execution_count": 395,
      "outputs": []
    },
    {
      "cell_type": "code",
      "source": [
        "from sklearn.linear_model import LogisticRegression\n",
        "lr_model = LogisticRegression(max_iter = 400,random_state = 42)\n",
        "lr_model.fit(X_train_scaled,y_train)"
      ],
      "metadata": {
        "id": "nhMvqim6u2Un",
        "colab": {
          "base_uri": "https://localhost:8080/",
          "height": 75
        },
        "outputId": "a67e442b-7293-49fa-9252-a3fdd647b08a"
      },
      "execution_count": 396,
      "outputs": [
        {
          "output_type": "execute_result",
          "data": {
            "text/plain": [
              "LogisticRegression(max_iter=400, random_state=42)"
            ],
            "text/html": [
              "<style>#sk-container-id-12 {color: black;background-color: white;}#sk-container-id-12 pre{padding: 0;}#sk-container-id-12 div.sk-toggleable {background-color: white;}#sk-container-id-12 label.sk-toggleable__label {cursor: pointer;display: block;width: 100%;margin-bottom: 0;padding: 0.3em;box-sizing: border-box;text-align: center;}#sk-container-id-12 label.sk-toggleable__label-arrow:before {content: \"▸\";float: left;margin-right: 0.25em;color: #696969;}#sk-container-id-12 label.sk-toggleable__label-arrow:hover:before {color: black;}#sk-container-id-12 div.sk-estimator:hover label.sk-toggleable__label-arrow:before {color: black;}#sk-container-id-12 div.sk-toggleable__content {max-height: 0;max-width: 0;overflow: hidden;text-align: left;background-color: #f0f8ff;}#sk-container-id-12 div.sk-toggleable__content pre {margin: 0.2em;color: black;border-radius: 0.25em;background-color: #f0f8ff;}#sk-container-id-12 input.sk-toggleable__control:checked~div.sk-toggleable__content {max-height: 200px;max-width: 100%;overflow: auto;}#sk-container-id-12 input.sk-toggleable__control:checked~label.sk-toggleable__label-arrow:before {content: \"▾\";}#sk-container-id-12 div.sk-estimator input.sk-toggleable__control:checked~label.sk-toggleable__label {background-color: #d4ebff;}#sk-container-id-12 div.sk-label input.sk-toggleable__control:checked~label.sk-toggleable__label {background-color: #d4ebff;}#sk-container-id-12 input.sk-hidden--visually {border: 0;clip: rect(1px 1px 1px 1px);clip: rect(1px, 1px, 1px, 1px);height: 1px;margin: -1px;overflow: hidden;padding: 0;position: absolute;width: 1px;}#sk-container-id-12 div.sk-estimator {font-family: monospace;background-color: #f0f8ff;border: 1px dotted black;border-radius: 0.25em;box-sizing: border-box;margin-bottom: 0.5em;}#sk-container-id-12 div.sk-estimator:hover {background-color: #d4ebff;}#sk-container-id-12 div.sk-parallel-item::after {content: \"\";width: 100%;border-bottom: 1px solid gray;flex-grow: 1;}#sk-container-id-12 div.sk-label:hover label.sk-toggleable__label {background-color: #d4ebff;}#sk-container-id-12 div.sk-serial::before {content: \"\";position: absolute;border-left: 1px solid gray;box-sizing: border-box;top: 0;bottom: 0;left: 50%;z-index: 0;}#sk-container-id-12 div.sk-serial {display: flex;flex-direction: column;align-items: center;background-color: white;padding-right: 0.2em;padding-left: 0.2em;position: relative;}#sk-container-id-12 div.sk-item {position: relative;z-index: 1;}#sk-container-id-12 div.sk-parallel {display: flex;align-items: stretch;justify-content: center;background-color: white;position: relative;}#sk-container-id-12 div.sk-item::before, #sk-container-id-12 div.sk-parallel-item::before {content: \"\";position: absolute;border-left: 1px solid gray;box-sizing: border-box;top: 0;bottom: 0;left: 50%;z-index: -1;}#sk-container-id-12 div.sk-parallel-item {display: flex;flex-direction: column;z-index: 1;position: relative;background-color: white;}#sk-container-id-12 div.sk-parallel-item:first-child::after {align-self: flex-end;width: 50%;}#sk-container-id-12 div.sk-parallel-item:last-child::after {align-self: flex-start;width: 50%;}#sk-container-id-12 div.sk-parallel-item:only-child::after {width: 0;}#sk-container-id-12 div.sk-dashed-wrapped {border: 1px dashed gray;margin: 0 0.4em 0.5em 0.4em;box-sizing: border-box;padding-bottom: 0.4em;background-color: white;}#sk-container-id-12 div.sk-label label {font-family: monospace;font-weight: bold;display: inline-block;line-height: 1.2em;}#sk-container-id-12 div.sk-label-container {text-align: center;}#sk-container-id-12 div.sk-container {/* jupyter's `normalize.less` sets `[hidden] { display: none; }` but bootstrap.min.css set `[hidden] { display: none !important; }` so we also need the `!important` here to be able to override the default hidden behavior on the sphinx rendered scikit-learn.org. See: https://github.com/scikit-learn/scikit-learn/issues/21755 */display: inline-block !important;position: relative;}#sk-container-id-12 div.sk-text-repr-fallback {display: none;}</style><div id=\"sk-container-id-12\" class=\"sk-top-container\"><div class=\"sk-text-repr-fallback\"><pre>LogisticRegression(max_iter=400, random_state=42)</pre><b>In a Jupyter environment, please rerun this cell to show the HTML representation or trust the notebook. <br />On GitHub, the HTML representation is unable to render, please try loading this page with nbviewer.org.</b></div><div class=\"sk-container\" hidden><div class=\"sk-item\"><div class=\"sk-estimator sk-toggleable\"><input class=\"sk-toggleable__control sk-hidden--visually\" id=\"sk-estimator-id-12\" type=\"checkbox\" checked><label for=\"sk-estimator-id-12\" class=\"sk-toggleable__label sk-toggleable__label-arrow\">LogisticRegression</label><div class=\"sk-toggleable__content\"><pre>LogisticRegression(max_iter=400, random_state=42)</pre></div></div></div></div></div>"
            ]
          },
          "metadata": {},
          "execution_count": 396
        }
      ]
    },
    {
      "cell_type": "code",
      "source": [
        "y_pred = lr_model.predict_proba(X_test_scaled)[:,1]"
      ],
      "metadata": {
        "id": "pU4Pb5LPvECm"
      },
      "execution_count": 397,
      "outputs": []
    },
    {
      "cell_type": "code",
      "source": [
        "y_pred"
      ],
      "metadata": {
        "colab": {
          "base_uri": "https://localhost:8080/"
        },
        "id": "avICHNh9t8aH",
        "outputId": "92115333-a2c8-4e2c-f763-34f721fe0f4a"
      },
      "execution_count": 398,
      "outputs": [
        {
          "output_type": "execute_result",
          "data": {
            "text/plain": [
              "array([0.05258681, 0.05185238, 0.02866394, ..., 0.05383492, 0.05518384,\n",
              "       0.07856863])"
            ]
          },
          "metadata": {},
          "execution_count": 398
        }
      ]
    },
    {
      "cell_type": "markdown",
      "source": [
        "#4. Generating Lead Score"
      ],
      "metadata": {
        "id": "a2K-rtp22KK-"
      }
    },
    {
      "cell_type": "code",
      "source": [
        "#creating a dataframe to store Lead Score, y_train, and predictions together\n",
        "lr_pred = pd.DataFrame({'Status': y_test, 'Status_prob': y_pred,'Lead Score': (y_pred*100).round(2)})\n",
        "\n",
        "#obtaining results for a cut-off of 0.5\n",
        "lr_pred['predicted'] = lr_pred['Status_prob'].map(lambda x: 1 if x > 0.5 else 0)\n",
        "lr_pred.head()"
      ],
      "metadata": {
        "colab": {
          "base_uri": "https://localhost:8080/",
          "height": 206
        },
        "id": "cxrIxxgWwYZw",
        "outputId": "bc962f37-7d1a-4bf4-f2db-303874ed4991"
      },
      "execution_count": 399,
      "outputs": [
        {
          "output_type": "execute_result",
          "data": {
            "text/plain": [
              "   Status  Status_prob  Lead Score  predicted\n",
              "0       0     0.052587        5.26          0\n",
              "1       0     0.051852        5.19          0\n",
              "2       0     0.028664        2.87          0\n",
              "3       0     0.081519        8.15          0\n",
              "4       0     0.071222        7.12          0"
            ],
            "text/html": [
              "\n",
              "  <div id=\"df-ddca0fd8-71ce-47f7-af47-109f3ddf5aa2\">\n",
              "    <div class=\"colab-df-container\">\n",
              "      <div>\n",
              "<style scoped>\n",
              "    .dataframe tbody tr th:only-of-type {\n",
              "        vertical-align: middle;\n",
              "    }\n",
              "\n",
              "    .dataframe tbody tr th {\n",
              "        vertical-align: top;\n",
              "    }\n",
              "\n",
              "    .dataframe thead th {\n",
              "        text-align: right;\n",
              "    }\n",
              "</style>\n",
              "<table border=\"1\" class=\"dataframe\">\n",
              "  <thead>\n",
              "    <tr style=\"text-align: right;\">\n",
              "      <th></th>\n",
              "      <th>Status</th>\n",
              "      <th>Status_prob</th>\n",
              "      <th>Lead Score</th>\n",
              "      <th>predicted</th>\n",
              "    </tr>\n",
              "  </thead>\n",
              "  <tbody>\n",
              "    <tr>\n",
              "      <th>0</th>\n",
              "      <td>0</td>\n",
              "      <td>0.052587</td>\n",
              "      <td>5.26</td>\n",
              "      <td>0</td>\n",
              "    </tr>\n",
              "    <tr>\n",
              "      <th>1</th>\n",
              "      <td>0</td>\n",
              "      <td>0.051852</td>\n",
              "      <td>5.19</td>\n",
              "      <td>0</td>\n",
              "    </tr>\n",
              "    <tr>\n",
              "      <th>2</th>\n",
              "      <td>0</td>\n",
              "      <td>0.028664</td>\n",
              "      <td>2.87</td>\n",
              "      <td>0</td>\n",
              "    </tr>\n",
              "    <tr>\n",
              "      <th>3</th>\n",
              "      <td>0</td>\n",
              "      <td>0.081519</td>\n",
              "      <td>8.15</td>\n",
              "      <td>0</td>\n",
              "    </tr>\n",
              "    <tr>\n",
              "      <th>4</th>\n",
              "      <td>0</td>\n",
              "      <td>0.071222</td>\n",
              "      <td>7.12</td>\n",
              "      <td>0</td>\n",
              "    </tr>\n",
              "  </tbody>\n",
              "</table>\n",
              "</div>\n",
              "      <button class=\"colab-df-convert\" onclick=\"convertToInteractive('df-ddca0fd8-71ce-47f7-af47-109f3ddf5aa2')\"\n",
              "              title=\"Convert this dataframe to an interactive table.\"\n",
              "              style=\"display:none;\">\n",
              "        \n",
              "  <svg xmlns=\"http://www.w3.org/2000/svg\" height=\"24px\"viewBox=\"0 0 24 24\"\n",
              "       width=\"24px\">\n",
              "    <path d=\"M0 0h24v24H0V0z\" fill=\"none\"/>\n",
              "    <path d=\"M18.56 5.44l.94 2.06.94-2.06 2.06-.94-2.06-.94-.94-2.06-.94 2.06-2.06.94zm-11 1L8.5 8.5l.94-2.06 2.06-.94-2.06-.94L8.5 2.5l-.94 2.06-2.06.94zm10 10l.94 2.06.94-2.06 2.06-.94-2.06-.94-.94-2.06-.94 2.06-2.06.94z\"/><path d=\"M17.41 7.96l-1.37-1.37c-.4-.4-.92-.59-1.43-.59-.52 0-1.04.2-1.43.59L10.3 9.45l-7.72 7.72c-.78.78-.78 2.05 0 2.83L4 21.41c.39.39.9.59 1.41.59.51 0 1.02-.2 1.41-.59l7.78-7.78 2.81-2.81c.8-.78.8-2.07 0-2.86zM5.41 20L4 18.59l7.72-7.72 1.47 1.35L5.41 20z\"/>\n",
              "  </svg>\n",
              "      </button>\n",
              "      \n",
              "  <style>\n",
              "    .colab-df-container {\n",
              "      display:flex;\n",
              "      flex-wrap:wrap;\n",
              "      gap: 12px;\n",
              "    }\n",
              "\n",
              "    .colab-df-convert {\n",
              "      background-color: #E8F0FE;\n",
              "      border: none;\n",
              "      border-radius: 50%;\n",
              "      cursor: pointer;\n",
              "      display: none;\n",
              "      fill: #1967D2;\n",
              "      height: 32px;\n",
              "      padding: 0 0 0 0;\n",
              "      width: 32px;\n",
              "    }\n",
              "\n",
              "    .colab-df-convert:hover {\n",
              "      background-color: #E2EBFA;\n",
              "      box-shadow: 0px 1px 2px rgba(60, 64, 67, 0.3), 0px 1px 3px 1px rgba(60, 64, 67, 0.15);\n",
              "      fill: #174EA6;\n",
              "    }\n",
              "\n",
              "    [theme=dark] .colab-df-convert {\n",
              "      background-color: #3B4455;\n",
              "      fill: #D2E3FC;\n",
              "    }\n",
              "\n",
              "    [theme=dark] .colab-df-convert:hover {\n",
              "      background-color: #434B5C;\n",
              "      box-shadow: 0px 1px 3px 1px rgba(0, 0, 0, 0.15);\n",
              "      filter: drop-shadow(0px 1px 2px rgba(0, 0, 0, 0.3));\n",
              "      fill: #FFFFFF;\n",
              "    }\n",
              "  </style>\n",
              "\n",
              "      <script>\n",
              "        const buttonEl =\n",
              "          document.querySelector('#df-ddca0fd8-71ce-47f7-af47-109f3ddf5aa2 button.colab-df-convert');\n",
              "        buttonEl.style.display =\n",
              "          google.colab.kernel.accessAllowed ? 'block' : 'none';\n",
              "\n",
              "        async function convertToInteractive(key) {\n",
              "          const element = document.querySelector('#df-ddca0fd8-71ce-47f7-af47-109f3ddf5aa2');\n",
              "          const dataTable =\n",
              "            await google.colab.kernel.invokeFunction('convertToInteractive',\n",
              "                                                     [key], {});\n",
              "          if (!dataTable) return;\n",
              "\n",
              "          const docLinkHtml = 'Like what you see? Visit the ' +\n",
              "            '<a target=\"_blank\" href=https://colab.research.google.com/notebooks/data_table.ipynb>data table notebook</a>'\n",
              "            + ' to learn more about interactive tables.';\n",
              "          element.innerHTML = '';\n",
              "          dataTable['output_type'] = 'display_data';\n",
              "          await google.colab.output.renderOutput(dataTable, element);\n",
              "          const docLink = document.createElement('div');\n",
              "          docLink.innerHTML = docLinkHtml;\n",
              "          element.appendChild(docLink);\n",
              "        }\n",
              "      </script>\n",
              "    </div>\n",
              "  </div>\n",
              "  "
            ]
          },
          "metadata": {},
          "execution_count": 399
        }
      ]
    },
    {
      "cell_type": "code",
      "source": [
        "from sklearn.metrics import confusion_matrix, classification_report"
      ],
      "metadata": {
        "id": "l80Y5GqbvEEk"
      },
      "execution_count": 400,
      "outputs": []
    },
    {
      "cell_type": "code",
      "source": [
        "print('Classification Report: ')\n",
        "print(classification_report(y_test,lr_pred['predicted'],zero_division = 1))"
      ],
      "metadata": {
        "id": "N7tcWroNvEIW",
        "colab": {
          "base_uri": "https://localhost:8080/"
        },
        "outputId": "2f30c879-8d62-43ff-8980-116e51eae4ab"
      },
      "execution_count": 401,
      "outputs": [
        {
          "output_type": "stream",
          "name": "stdout",
          "text": [
            "Classification Report: \n",
            "              precision    recall  f1-score   support\n",
            "\n",
            "           0       0.93      1.00      0.97      8651\n",
            "           1       1.00      0.00      0.00       613\n",
            "\n",
            "    accuracy                           0.93      9264\n",
            "   macro avg       0.97      0.50      0.48      9264\n",
            "weighted avg       0.94      0.93      0.90      9264\n",
            "\n"
          ]
        }
      ]
    },
    {
      "cell_type": "code",
      "source": [
        "print('Confusion Matrix: ')\n",
        "print(confusion_matrix(y_test,lr_pred['predicted']))"
      ],
      "metadata": {
        "id": "rB9O1Kfcj3Ic",
        "colab": {
          "base_uri": "https://localhost:8080/"
        },
        "outputId": "e7c2b22f-906a-4d20-fe44-576ac381d178"
      },
      "execution_count": 402,
      "outputs": [
        {
          "output_type": "stream",
          "name": "stdout",
          "text": [
            "Confusion Matrix: \n",
            "[[8651    0]\n",
            " [ 613    0]]\n"
          ]
        }
      ]
    },
    {
      "cell_type": "code",
      "source": [],
      "metadata": {
        "id": "zTIjZIZC01yB"
      },
      "execution_count": 402,
      "outputs": []
    }
  ]
}